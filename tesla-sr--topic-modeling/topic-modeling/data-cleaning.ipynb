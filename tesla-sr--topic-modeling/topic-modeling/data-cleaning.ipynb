{
 "cells": [
  {
   "cell_type": "code",
   "execution_count": 6,
   "metadata": {},
   "outputs": [],
   "source": [
    "import pandas as pd\n",
    "import re"
   ]
  },
  {
   "cell_type": "code",
   "execution_count": 3,
   "metadata": {},
   "outputs": [
    {
     "name": "stdout",
     "output_type": "stream",
     "text": [
      "<class 'pandas.core.frame.DataFrame'>\n",
      "RangeIndex: 25832 entries, 0 to 25831\n",
      "Data columns (total 9 columns):\n",
      " #   Column             Non-Null Count  Dtype \n",
      "---  ------             --------------  ----- \n",
      " 0   id                 25832 non-null  object\n",
      " 1   comment            25832 non-null  object\n",
      " 2   authorDisplayName  25801 non-null  object\n",
      " 3   authorChannelUrl   25832 non-null  object\n",
      " 4   likeCount          25832 non-null  int64 \n",
      " 5   totalReplyCount    25832 non-null  int64 \n",
      " 6   publishedAt        25832 non-null  object\n",
      " 7   updatedAt          25832 non-null  object\n",
      " 8   parentId           4472 non-null   object\n",
      "dtypes: int64(2), object(7)\n",
      "memory usage: 1.8+ MB\n"
     ]
    }
   ],
   "source": [
    "csv_file = \"../data/tesla_solar_roof_comments.csv\"\n",
    "data = pd.read_csv(csv_file)\n",
    "data.info()"
   ]
  },
  {
   "cell_type": "markdown",
   "metadata": {},
   "source": [
    "## Preprocessing"
   ]
  },
  {
   "cell_type": "markdown",
   "metadata": {},
   "source": [
    "When using a transformer-based model like BERT, preprocessing requirements are reduced because these models are designed to understand text contextually and handle much of the \"noise\" in the input data. Here, we only select attributes relevant for modeling and focus on basic preprocessing steps:\n",
    "\n",
    "- **Remove URLs**: URLs are typically irrelevant to the text's core meaning and can introduce noise.\n",
    "- **Remove extra whitespace characters**: This includes characters like `\\n`, `\\r`, `\\t`, `\\f`, and multiple spaces."
   ]
  },
  {
   "cell_type": "code",
   "execution_count": 8,
   "metadata": {},
   "outputs": [],
   "source": [
    "# Preprocess the input text by removing URLs and unnecessary whitespace\n",
    "def preprocess_text(text):\n",
    "    text = re.sub(r'http\\S+|www\\S+', '', text) # Remove URLs\n",
    "    return ' '.join(text.split())\n"
   ]
  },
  {
   "cell_type": "code",
   "execution_count": 9,
   "metadata": {},
   "outputs": [
    {
     "name": "stdout",
     "output_type": "stream",
     "text": [
      "This is an example text with a URL: and extra spaces.\n"
     ]
    }
   ],
   "source": [
    "text = \"\"\"  This   is an example\n",
    "\n",
    " text with\n",
    "\n",
    "a URL: http://example.com  and extra spaces.\"\"\"\n",
    "\n",
    "cleaned_text = preprocess_text(text)\n",
    "print(cleaned_text)"
   ]
  },
  {
   "cell_type": "code",
   "execution_count": 15,
   "metadata": {},
   "outputs": [
    {
     "data": {
      "text/html": [
       "<div>\n",
       "<style scoped>\n",
       "    .dataframe tbody tr th:only-of-type {\n",
       "        vertical-align: middle;\n",
       "    }\n",
       "\n",
       "    .dataframe tbody tr th {\n",
       "        vertical-align: top;\n",
       "    }\n",
       "\n",
       "    .dataframe thead th {\n",
       "        text-align: right;\n",
       "    }\n",
       "</style>\n",
       "<table border=\"1\" class=\"dataframe\">\n",
       "  <thead>\n",
       "    <tr style=\"text-align: right;\">\n",
       "      <th></th>\n",
       "      <th>comment</th>\n",
       "      <th>publishedAt</th>\n",
       "    </tr>\n",
       "  </thead>\n",
       "  <tbody>\n",
       "    <tr>\n",
       "      <th>0</th>\n",
       "      <td>So it appears Tesla found a bug in their app a...</td>\n",
       "      <td>2023-08-19T14:35:19Z</td>\n",
       "    </tr>\n",
       "    <tr>\n",
       "      <th>1</th>\n",
       "      <td>Why didn’t you factor any SREC’s into your cal...</td>\n",
       "      <td>2023-08-19T14:45:37Z</td>\n",
       "    </tr>\n",
       "    <tr>\n",
       "      <th>2</th>\n",
       "      <td>Straight from Twitter link after you posted th...</td>\n",
       "      <td>2023-08-19T14:51:51Z</td>\n",
       "    </tr>\n",
       "    <tr>\n",
       "      <th>3</th>\n",
       "      <td>Yes, you cannot produce 350 kWh of energy in a...</td>\n",
       "      <td>2023-08-19T15:41:25Z</td>\n",
       "    </tr>\n",
       "    <tr>\n",
       "      <th>4</th>\n",
       "      <td>I may have missed it but don't you sell electr...</td>\n",
       "      <td>2023-08-19T17:28:04Z</td>\n",
       "    </tr>\n",
       "  </tbody>\n",
       "</table>\n",
       "</div>"
      ],
      "text/plain": [
       "                                             comment           publishedAt\n",
       "0  So it appears Tesla found a bug in their app a...  2023-08-19T14:35:19Z\n",
       "1  Why didn’t you factor any SREC’s into your cal...  2023-08-19T14:45:37Z\n",
       "2  Straight from Twitter link after you posted th...  2023-08-19T14:51:51Z\n",
       "3  Yes, you cannot produce 350 kWh of energy in a...  2023-08-19T15:41:25Z\n",
       "4  I may have missed it but don't you sell electr...  2023-08-19T17:28:04Z"
      ]
     },
     "execution_count": 15,
     "metadata": {},
     "output_type": "execute_result"
    }
   ],
   "source": [
    "data['comment'] = data['comment'].apply(preprocess_text)\n",
    "comments = data[[\"comment\",\"publishedAt\"]]\n",
    "comments.head()"
   ]
  },
  {
   "cell_type": "code",
   "execution_count": null,
   "metadata": {},
   "outputs": [],
   "source": []
  },
  {
   "cell_type": "code",
   "execution_count": 17,
   "metadata": {},
   "outputs": [],
   "source": [
    "comments.to_csv(\"../data/clean_modeling_data.csv\", index=False)"
   ]
  }
 ],
 "metadata": {
  "kernelspec": {
   "display_name": "tf",
   "language": "python",
   "name": "python3"
  },
  "language_info": {
   "codemirror_mode": {
    "name": "ipython",
    "version": 3
   },
   "file_extension": ".py",
   "mimetype": "text/x-python",
   "name": "python",
   "nbconvert_exporter": "python",
   "pygments_lexer": "ipython3",
   "version": "3.10.6"
  }
 },
 "nbformat": 4,
 "nbformat_minor": 2
}
