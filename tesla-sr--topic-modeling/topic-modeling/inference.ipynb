{
 "cells": [
  {
   "cell_type": "code",
   "execution_count": 41,
   "metadata": {},
   "outputs": [],
   "source": [
    "from bertopic import BERTopic\n",
    "from sentence_transformers import SentenceTransformer\n",
    "\n",
    "\n",
    "embedding_model = SentenceTransformer(\n",
    "    \"sentence-transformers/all-MiniLM-L6-v2\", device=\"cpu\"\n",
    ")\n",
    "\n",
    "loaded_model=BERTopic.load('./saved/BERTopic_tesla_sr', embedding_model=embedding_model)\n"
   ]
  },
  {
   "cell_type": "code",
   "execution_count": 42,
   "metadata": {},
   "outputs": [
    {
     "data": {
      "text/html": [
       "<div>\n",
       "<style scoped>\n",
       "    .dataframe tbody tr th:only-of-type {\n",
       "        vertical-align: middle;\n",
       "    }\n",
       "\n",
       "    .dataframe tbody tr th {\n",
       "        vertical-align: top;\n",
       "    }\n",
       "\n",
       "    .dataframe thead th {\n",
       "        text-align: right;\n",
       "    }\n",
       "</style>\n",
       "<table border=\"1\" class=\"dataframe\">\n",
       "  <thead>\n",
       "    <tr style=\"text-align: right;\">\n",
       "      <th></th>\n",
       "      <th>Topic</th>\n",
       "      <th>Count</th>\n",
       "      <th>Name</th>\n",
       "      <th>Representation</th>\n",
       "      <th>Representative_Docs</th>\n",
       "    </tr>\n",
       "  </thead>\n",
       "  <tbody>\n",
       "    <tr>\n",
       "      <th>0</th>\n",
       "      <td>-1</td>\n",
       "      <td>9578</td>\n",
       "      <td>-1_solar_years_would_power</td>\n",
       "      <td>[solar, years, would, power, grid, batteries, ...</td>\n",
       "      <td>NaN</td>\n",
       "    </tr>\n",
       "    <tr>\n",
       "      <th>1</th>\n",
       "      <td>0</td>\n",
       "      <td>1552</td>\n",
       "      <td>0_heat_pump_heat pump_heating</td>\n",
       "      <td>[heat, pump, heat pump, heating, gas, ac, air,...</td>\n",
       "      <td>NaN</td>\n",
       "    </tr>\n",
       "    <tr>\n",
       "      <th>2</th>\n",
       "      <td>1</td>\n",
       "      <td>1283</td>\n",
       "      <td>1_kwh_use_day_per</td>\n",
       "      <td>[kwh, use, day, per, month, year, usage, consu...</td>\n",
       "      <td>NaN</td>\n",
       "    </tr>\n",
       "    <tr>\n",
       "      <th>3</th>\n",
       "      <td>2</td>\n",
       "      <td>581</td>\n",
       "      <td>2_solar_bill_system_cost</td>\n",
       "      <td>[solar, bill, system, cost, years, panels, sol...</td>\n",
       "      <td>NaN</td>\n",
       "    </tr>\n",
       "    <tr>\n",
       "      <th>4</th>\n",
       "      <td>3</td>\n",
       "      <td>477</td>\n",
       "      <td>3_grid_company_back_sell</td>\n",
       "      <td>[grid, company, back, sell, back grid, credits...</td>\n",
       "      <td>NaN</td>\n",
       "    </tr>\n",
       "    <tr>\n",
       "      <th>...</th>\n",
       "      <td>...</td>\n",
       "      <td>...</td>\n",
       "      <td>...</td>\n",
       "      <td>...</td>\n",
       "      <td>...</td>\n",
       "    </tr>\n",
       "    <tr>\n",
       "      <th>108</th>\n",
       "      <td>107</td>\n",
       "      <td>33</td>\n",
       "      <td>107_car_cars_solar panels_solar</td>\n",
       "      <td>[car, cars, solar panels, solar, car solar, pa...</td>\n",
       "      <td>NaN</td>\n",
       "    </tr>\n",
       "    <tr>\n",
       "      <th>109</th>\n",
       "      <td>108</td>\n",
       "      <td>33</td>\n",
       "      <td>108_solar_solar future_argument_argument make</td>\n",
       "      <td>[solar, solar future, argument, argument make,...</td>\n",
       "      <td>NaN</td>\n",
       "    </tr>\n",
       "    <tr>\n",
       "      <th>110</th>\n",
       "      <td>109</td>\n",
       "      <td>30</td>\n",
       "      <td>109_square_square footage_footage_footage house</td>\n",
       "      <td>[square, square footage, footage, footage hous...</td>\n",
       "      <td>NaN</td>\n",
       "    </tr>\n",
       "    <tr>\n",
       "      <th>111</th>\n",
       "      <td>110</td>\n",
       "      <td>30</td>\n",
       "      <td>110_brownlee_marques brownlee_brown_markass br...</td>\n",
       "      <td>[brownlee, marques brownlee, brown, markass br...</td>\n",
       "      <td>NaN</td>\n",
       "    </tr>\n",
       "    <tr>\n",
       "      <th>112</th>\n",
       "      <td>111</td>\n",
       "      <td>30</td>\n",
       "      <td>111_comment_comments_likes_commenting</td>\n",
       "      <td>[comment, comments, likes, commenting, algorit...</td>\n",
       "      <td>NaN</td>\n",
       "    </tr>\n",
       "  </tbody>\n",
       "</table>\n",
       "<p>113 rows × 5 columns</p>\n",
       "</div>"
      ],
      "text/plain": [
       "     Topic  Count                                               Name  \\\n",
       "0       -1   9578                         -1_solar_years_would_power   \n",
       "1        0   1552                      0_heat_pump_heat pump_heating   \n",
       "2        1   1283                                  1_kwh_use_day_per   \n",
       "3        2    581                           2_solar_bill_system_cost   \n",
       "4        3    477                           3_grid_company_back_sell   \n",
       "..     ...    ...                                                ...   \n",
       "108    107     33                    107_car_cars_solar panels_solar   \n",
       "109    108     33      108_solar_solar future_argument_argument make   \n",
       "110    109     30    109_square_square footage_footage_footage house   \n",
       "111    110     30  110_brownlee_marques brownlee_brown_markass br...   \n",
       "112    111     30              111_comment_comments_likes_commenting   \n",
       "\n",
       "                                        Representation  Representative_Docs  \n",
       "0    [solar, years, would, power, grid, batteries, ...                  NaN  \n",
       "1    [heat, pump, heat pump, heating, gas, ac, air,...                  NaN  \n",
       "2    [kwh, use, day, per, month, year, usage, consu...                  NaN  \n",
       "3    [solar, bill, system, cost, years, panels, sol...                  NaN  \n",
       "4    [grid, company, back, sell, back grid, credits...                  NaN  \n",
       "..                                                 ...                  ...  \n",
       "108  [car, cars, solar panels, solar, car solar, pa...                  NaN  \n",
       "109  [solar, solar future, argument, argument make,...                  NaN  \n",
       "110  [square, square footage, footage, footage hous...                  NaN  \n",
       "111  [brownlee, marques brownlee, brown, markass br...                  NaN  \n",
       "112  [comment, comments, likes, commenting, algorit...                  NaN  \n",
       "\n",
       "[113 rows x 5 columns]"
      ]
     },
     "execution_count": 42,
     "metadata": {},
     "output_type": "execute_result"
    }
   ],
   "source": [
    "loaded_model.get_topic_info()"
   ]
  },
  {
   "cell_type": "code",
   "execution_count": 43,
   "metadata": {},
   "outputs": [],
   "source": [
    "import json\n",
    "\n",
    "topic_info = loaded_model.get_topic_info()\n",
    "\n",
    "topics = []\n",
    "for _, row in topic_info.iterrows():\n",
    "    if row['Topic'] == -1:\n",
    "        continue\n",
    "    \n",
    "    topic = {\n",
    "        \"topic_label\": row['Name'],  \n",
    "        \"keywords\": \", \".join(row['Representation'])\n",
    "    }\n",
    "    topics.append(topic)\n",
    "\n",
    "# Save to a JSON file\n",
    "output_file = 'topics.json'\n",
    "with open(output_file, 'w') as json_file:\n",
    "    json.dump(topics, json_file, indent=4)\n",
    "\n"
   ]
  },
  {
   "cell_type": "code",
   "execution_count": 44,
   "metadata": {},
   "outputs": [
    {
     "data": {
      "application/vnd.plotly.v1+json": {
       "config": {
        "plotlyServerURL": "https://plot.ly"
       },
       "data": [
        {
         "marker": {
          "color": "#D55E00"
         },
         "orientation": "h",
         "type": "bar",
         "x": [
          0.013319849867511299,
          0.015510305135925707,
          0.015950002574500285,
          0.01768787733622884,
          0.02455501734586382,
          0.025605613089161056,
          0.025637204951688246,
          0.03732508858949975
         ],
         "xaxis": "x",
         "y": [
          "pumps  ",
          "air  ",
          "ac  ",
          "gas  ",
          "heating  ",
          "heat pump  ",
          "pump  ",
          "heat  "
         ],
         "yaxis": "y"
        },
        {
         "marker": {
          "color": "#0072B2"
         },
         "orientation": "h",
         "type": "bar",
         "x": [
          0.010209879379393588,
          0.011241741809624294,
          0.012972639183161041,
          0.013846373916750795,
          0.016474071001561046,
          0.017524034764949327,
          0.017992254764638022,
          0.02166064053403863
         ],
         "xaxis": "x2",
         "y": [
          "consumption  ",
          "usage  ",
          "year  ",
          "month  ",
          "per  ",
          "day  ",
          "use  ",
          "kwh  "
         ],
         "yaxis": "y2"
        },
        {
         "marker": {
          "color": "#CC79A7"
         },
         "orientation": "h",
         "type": "bar",
         "x": [
          0.006875289685167144,
          0.00703856919938217,
          0.007400857707517072,
          0.00808229700273693,
          0.008097146373895402,
          0.009035455342449542,
          0.010436772434006866,
          0.012797201846563175
         ],
         "xaxis": "x3",
         "y": [
          "month  ",
          "solar system  ",
          "panels  ",
          "years  ",
          "cost  ",
          "system  ",
          "bill  ",
          "solar  "
         ],
         "yaxis": "y3"
        },
        {
         "marker": {
          "color": "#E69F00"
         },
         "orientation": "h",
         "type": "bar",
         "x": [
          0.017260425713950277,
          0.017339389030209644,
          0.018078825524115678,
          0.018278471658255486,
          0.019486058910880344,
          0.020877655190089342,
          0.02335440840827137,
          0.027052346418752593
         ],
         "xaxis": "x4",
         "y": [
          "excess  ",
          "power  ",
          "credits  ",
          "back grid  ",
          "sell  ",
          "back  ",
          "company  ",
          "grid  "
         ],
         "yaxis": "y4"
        },
        {
         "marker": {
          "color": "#56B4E9"
         },
         "orientation": "h",
         "type": "bar",
         "x": [
          0.005360075603338042,
          0.005968185803748351,
          0.0061959003101400316,
          0.007240322281690281,
          0.007709158393694768,
          0.008022624119880965,
          0.010108083522532854,
          0.05147783551262623
         ],
         "xaxis": "x5",
         "y": [
          "marques brownlee  ",
          "tesla system  ",
          "smoothly  ",
          "went  ",
          "video  ",
          "marques  ",
          "apple  ",
          "tesla  "
         ],
         "yaxis": "y5"
        },
        {
         "marker": {
          "color": "#009E73"
         },
         "orientation": "h",
         "type": "bar",
         "x": [
          0.010162429673058318,
          0.010501866587310617,
          0.012736366491278583,
          0.014168611606057795,
          0.021717234437806647,
          0.03384636191553894,
          0.03732530988725979,
          0.03771050506594174
         ],
         "xaxis": "x6",
         "y": [
          "meters  ",
          "back  ",
          "backwards  ",
          "grid  ",
          "meter  ",
          "net  ",
          "net metering  ",
          "metering  "
         ],
         "yaxis": "y6"
        },
        {
         "marker": {
          "color": "#F0E442"
         },
         "orientation": "h",
         "type": "bar",
         "x": [
          0.014341421555979979,
          0.014510218791137819,
          0.015653067851112534,
          0.02072736441320203,
          0.023672111981167483,
          0.02992568305381783,
          0.030268013633814768,
          0.050909959630771634
         ],
         "xaxis": "x7",
         "y": [
          "company  ",
          "service  ",
          "month  ",
          "grid  ",
          "fee  ",
          "charge  ",
          "account  ",
          "75  "
         ],
         "yaxis": "y7"
        },
        {
         "marker": {
          "color": "#D55E00"
         },
         "orientation": "h",
         "type": "bar",
         "x": [
          0.008649584327762761,
          0.009888112809643364,
          0.010209266100130846,
          0.010522701767245237,
          0.013641066808387201,
          0.013861360577369482,
          0.021239395331361873,
          0.030437880428681795
         ],
         "xaxis": "x8",
         "y": [
          "love  ",
          "informative  ",
          "video solar  ",
          "thanks  ",
          "great  ",
          "thank  ",
          "solar  ",
          "video  "
         ],
         "yaxis": "y8"
        },
        {
         "marker": {
          "color": "#0072B2"
         },
         "orientation": "h",
         "type": "bar",
         "x": [
          0.00838764411703692,
          0.009623917320118455,
          0.010778405820258541,
          0.011320074633444447,
          0.019412101329106604,
          0.02025357317207354,
          0.025969525580195024,
          0.05127674289115952
         ],
         "xaxis": "x9",
         "y": [
          "subtract  ",
          "payback  ",
          "years  ",
          "would  ",
          "cost  ",
          "new  ",
          "new roof  ",
          "roof  "
         ],
         "yaxis": "y9"
        },
        {
         "marker": {
          "color": "#CC79A7"
         },
         "orientation": "h",
         "type": "bar",
         "x": [
          0.007051197528980981,
          0.013797998400350715,
          0.013837892957582346,
          0.019645373990590367,
          0.02553250005600582,
          0.027059321025320868,
          0.03379541126434378,
          0.037075507847833665
         ],
         "xaxis": "x10",
         "y": [
          "panels  ",
          "tiles  ",
          "solar  ",
          "tesla roof  ",
          "solar roof  ",
          "tesla solar  ",
          "roof  ",
          "tesla  "
         ],
         "yaxis": "y10"
        },
        {
         "marker": {
          "color": "#E69F00"
         },
         "orientation": "h",
         "type": "bar",
         "x": [
          0.010296655822646501,
          0.01053911829796611,
          0.011951972654218306,
          0.01351578975655527,
          0.014015793538805934,
          0.015008883300622427,
          0.016097531650387256,
          0.020648063747148594
         ],
         "xaxis": "x11",
         "y": [
          "clean  ",
          "batteries  ",
          "materials  ",
          "energy  ",
          "carbon  ",
          "nuclear  ",
          "green  ",
          "sustainable  "
         ],
         "yaxis": "y11"
        },
        {
         "marker": {
          "color": "#56B4E9"
         },
         "orientation": "h",
         "type": "bar",
         "x": [
          0.013226596450969866,
          0.01359216574640443,
          0.013744661116982682,
          0.01578161277961224,
          0.016475649029942255,
          0.019347899717863788,
          0.02463808161121633,
          0.11539793745351969
         ],
         "xaxis": "x12",
         "y": [
          "informative  ",
          "videos  ",
          "marques marques  ",
          "video marques  ",
          "thanks  ",
          "video  ",
          "thanks marques  ",
          "marques  "
         ],
         "yaxis": "y12"
        },
        {
         "marker": {
          "color": "#009E73"
         },
         "orientation": "h",
         "type": "bar",
         "x": [
          0.005238723123879247,
          0.00547199715425767,
          0.006316239235999677,
          0.008243183882577877,
          0.008276431045287344,
          0.009331787382278627,
          0.012393737959346143,
          0.02354697164625828
         ],
         "xaxis": "x13",
         "y": [
          "speaker  ",
          "energy  ",
          "power  ",
          "system  ",
          "panels  ",
          "tesla solar  ",
          "solar  ",
          "tesla  "
         ],
         "yaxis": "y13"
        },
        {
         "marker": {
          "color": "#F0E442"
         },
         "orientation": "h",
         "type": "bar",
         "x": [
          0.008855426723500797,
          0.008864625680606333,
          0.009328246173085787,
          0.010136340263247712,
          0.010238733813010093,
          0.010369941631147418,
          0.010379763776681645,
          0.013371382850422655
         ],
         "xaxis": "x14",
         "y": [
          "bro  ",
          "richardlofty  ",
          "merojeff  ",
          "right  ",
          "ok  ",
          "true  ",
          "lol  ",
          "yeah  "
         ],
         "yaxis": "y14"
        },
        {
         "marker": {
          "color": "#D55E00"
         },
         "orientation": "h",
         "type": "bar",
         "x": [
          0.036857688717390244,
          0.03830193772703641,
          0.04074838876955708,
          0.04805102082283763,
          0.05377573613666723,
          0.06291493793660427,
          0.07817089494221102,
          0.09041213637658968
         ],
         "xaxis": "x15",
         "y": [
          "informative thanks  ",
          "information  ",
          "sharing  ",
          "interesting  ",
          "presentation  ",
          "thank  ",
          "informative  ",
          "thanks  "
         ],
         "yaxis": "y15"
        },
        {
         "marker": {
          "color": "#0072B2"
         },
         "orientation": "h",
         "type": "bar",
         "x": [
          0.01737527818945821,
          0.018476732603486874,
          0.020405482789988556,
          0.023513915281944225,
          0.024016575858531338,
          0.02421262385001604,
          0.024325378659901847,
          0.025125454643706524
         ],
         "xaxis": "x16",
         "y": [
          "10  ",
          "100k  ",
          "payback period  ",
          "period  ",
          "interest  ",
          "years  ",
          "investment  ",
          "payback  "
         ],
         "yaxis": "y16"
        },
        {
         "marker": {
          "color": "#CC79A7"
         },
         "orientation": "h",
         "type": "bar",
         "x": [
          0.021381074719183726,
          0.024601270201807787,
          0.02867796203314372,
          0.029136204433003455,
          0.02954603526621094,
          0.03330467239649788,
          0.03334232479436301,
          0.03941386441447958
         ],
         "xaxis": "x17",
         "y": [
          "replace  ",
          "batteries last  ",
          "10  ",
          "10 years  ",
          "years  ",
          "battery  ",
          "last  ",
          "batteries  "
         ],
         "yaxis": "y17"
        },
        {
         "marker": {
          "color": "#E69F00"
         },
         "orientation": "h",
         "type": "bar",
         "x": [
          0.013031852288818615,
          0.013332494757989297,
          0.014947057522071644,
          0.017943445328392503,
          0.02074396282986575,
          0.02414953768538462,
          0.030109423589353392,
          0.03403539360485231
         ],
         "xaxis": "x18",
         "y": [
          "rain  ",
          "live  ",
          "winter  ",
          "season  ",
          "days  ",
          "sunny  ",
          "cloudy  ",
          "sun  "
         ],
         "yaxis": "y18"
        },
        {
         "marker": {
          "color": "#56B4E9"
         },
         "orientation": "h",
         "type": "bar",
         "x": [
          0.0706276061821289,
          0.07373677484013712,
          0.08349828312382855,
          0.08838563936588094,
          0.11227093234088541,
          0.27245775444671444,
          0.2963773107426792,
          0.3822259837252218
         ],
         "xaxis": "x19",
         "y": [
          "shirt rip  ",
          "love  ",
          "reddit  ",
          "rip  ",
          "love apollo  ",
          "apollo shirt  ",
          "shirt  ",
          "apollo  "
         ],
         "yaxis": "y19"
        },
        {
         "marker": {
          "color": "#009E73"
         },
         "orientation": "h",
         "type": "bar",
         "x": [
          0.007733694285180588,
          0.00784495524558537,
          0.00912442756216089,
          0.01154029338146658,
          0.01381140885930091,
          0.021952345597113874,
          0.03473306364035248,
          0.04196103256853627
         ],
         "xaxis": "x20",
         "y": [
          "solar panels  ",
          "new  ",
          "panels  ",
          "solar roofs  ",
          "roofs  ",
          "solar  ",
          "solar roof  ",
          "roof  "
         ],
         "yaxis": "y20"
        },
        {
         "marker": {
          "color": "#F0E442"
         },
         "orientation": "h",
         "type": "bar",
         "x": [
          0.007942176570477267,
          0.008584571209436113,
          0.008838078811130983,
          0.009865663364419545,
          0.01004399840259811,
          0.012426831806456297,
          0.013112768712266484,
          0.014880919312363525
         ],
         "xaxis": "x21",
         "y": [
          "electricity  ",
          "government  ",
          "companies  ",
          "people  ",
          "energy  ",
          "power  ",
          "solar  ",
          "grid  "
         ],
         "yaxis": "y21"
        },
        {
         "marker": {
          "color": "#D55E00"
         },
         "orientation": "h",
         "type": "bar",
         "x": [
          0.012067839355634343,
          0.012771632679342547,
          0.013134602637925048,
          0.013482765976533763,
          0.014888200000461621,
          0.018324031302966018,
          0.020996811935615613,
          0.021868144404519608
         ],
         "xaxis": "x22",
         "y": [
          "using  ",
          "uses  ",
          "house  ",
          "power use  ",
          "use  ",
          "car  ",
          "average  ",
          "miles  "
         ],
         "yaxis": "y22"
        },
        {
         "marker": {
          "color": "#0072B2"
         },
         "orientation": "h",
         "type": "bar",
         "x": [
          0.007630910454359702,
          0.007910718562911829,
          0.008349069199550363,
          0.008672300478153459,
          0.008749590763190061,
          0.01049546742401216,
          0.015823946312281983,
          0.017035688261180335
         ],
         "xaxis": "x23",
         "y": [
          "summer  ",
          "per  ",
          "system  ",
          "kw  ",
          "solar  ",
          "consumption  ",
          "day  ",
          "kwh  "
         ],
         "yaxis": "y23"
        },
        {
         "marker": {
          "color": "#CC79A7"
         },
         "orientation": "h",
         "type": "bar",
         "x": [
          0.01229513766843849,
          0.014073794452187188,
          0.01582627935738065,
          0.016588396825996155,
          0.01995046403015281,
          0.025917317535665403,
          0.03583542425651161,
          0.04049983440128908
         ],
         "xaxis": "x24",
         "y": [
          "battery  ",
          "environmental  ",
          "mining  ",
          "lithium batteries  ",
          "cobalt  ",
          "sustainable  ",
          "batteries  ",
          "lithium  "
         ],
         "yaxis": "y24"
        },
        {
         "marker": {
          "color": "#E69F00"
         },
         "orientation": "h",
         "type": "bar",
         "x": [
          0.041296094885876385,
          0.041861904073284786,
          0.04302639755028343,
          0.04509656372037307,
          0.046966439357780956,
          0.061362509005824725,
          0.10218985236280223,
          0.10686512706577152
         ],
         "xaxis": "x25",
         "y": [
          "video thanks  ",
          "great video  ",
          "thank  ",
          "video informative  ",
          "thanks  ",
          "informative video  ",
          "video  ",
          "informative  "
         ],
         "yaxis": "y25"
        },
        {
         "marker": {
          "color": "#56B4E9"
         },
         "orientation": "h",
         "type": "bar",
         "x": [
          0.016678466458413168,
          0.01722965337037941,
          0.017656526262382437,
          0.018069617865078838,
          0.018948052781439417,
          0.020299015983064127,
          0.021331586217342467,
          0.10999691088118213
         ],
         "xaxis": "x26",
         "y": [
          "thanks  ",
          "numbers guy  ",
          "great  ",
          "love numbers  ",
          "data  ",
          "video  ",
          "app  ",
          "numbers  "
         ],
         "yaxis": "y26"
        },
        {
         "marker": {
          "color": "#009E73"
         },
         "orientation": "h",
         "type": "bar",
         "x": [
          0.032191113920270485,
          0.035461743989674305,
          0.03649669858508568,
          0.03882821788447274,
          0.041121070507116844,
          0.059853999030130514,
          0.061201463136647864,
          0.08649741655133994
         ],
         "xaxis": "x27",
         "y": [
          "mattress cover  ",
          "bed  ",
          "eight  ",
          "eight sleep  ",
          "cover  ",
          "subscription  ",
          "mattress  ",
          "sleep  "
         ],
         "yaxis": "y27"
        },
        {
         "marker": {
          "color": "#F0E442"
         },
         "orientation": "h",
         "type": "bar",
         "x": [
          0.018096545223450895,
          0.01849895669836371,
          0.01996327454319791,
          0.02442449537527711,
          0.03067017754716625,
          0.03826931806659728,
          0.04041744332260863,
          0.1008054527349523
         ],
         "xaxis": "x28",
         "y": [
          "things  ",
          "richer  ",
          "poor  ",
          "afford  ",
          "people  ",
          "money  ",
          "rich people  ",
          "rich  "
         ],
         "yaxis": "y28"
        },
        {
         "marker": {
          "color": "#D55E00"
         },
         "orientation": "h",
         "type": "bar",
         "x": [
          0.026145864342365596,
          0.0270318799239995,
          0.028219897887272,
          0.03059524685671631,
          0.030798850276134725,
          0.036500494958752724,
          0.04641016471561915,
          0.04988092036181807
         ],
         "xaxis": "x29",
         "y": [
          "whatever  ",
          "went smooth  ",
          "smoothly  ",
          "whatever reason  ",
          "subscribers  ",
          "youtuber  ",
          "smooth  ",
          "went  "
         ],
         "yaxis": "y29"
        },
        {
         "marker": {
          "color": "#0072B2"
         },
         "orientation": "h",
         "type": "bar",
         "x": [
          0.011869215833264111,
          0.012287529142686273,
          0.012630544986258813,
          0.013134432141110194,
          0.013241200672551528,
          0.013331930499268636,
          0.016821311365431222,
          0.026170693452521293
         ],
         "xaxis": "x30",
         "y": [
          "investment  ",
          "take  ",
          "pay  ",
          "would  ",
          "would take  ",
          "bill  ",
          "electricity  ",
          "years  "
         ],
         "yaxis": "y30"
        },
        {
         "marker": {
          "color": "#CC79A7"
         },
         "orientation": "h",
         "type": "bar",
         "x": [
          0.01963409342284673,
          0.020498122298524733,
          0.020904869351598833,
          0.021385904396608455,
          0.023704696390463596,
          0.024974251479616225,
          0.026308597691741153,
          0.05060929960968492
         ],
         "xaxis": "x31",
         "y": [
          "best  ",
          "panels  ",
          "sun  ",
          "best month  ",
          "summer  ",
          "spring  ",
          "temperature  ",
          "may  "
         ],
         "yaxis": "y31"
        },
        {
         "marker": {
          "color": "#E69F00"
         },
         "orientation": "h",
         "type": "bar",
         "x": [
          0.013345525084026236,
          0.013507026054114472,
          0.01433702062602456,
          0.015009617862801146,
          0.015600198762538238,
          0.0158542254382551,
          0.02252223079946072,
          0.027777941419213716
         ],
         "xaxis": "x32",
         "y": [
          "solar  ",
          "degradation  ",
          "efficiency  ",
          "25  ",
          "10  ",
          "solar panels  ",
          "years  ",
          "panels  "
         ],
         "yaxis": "y32"
        }
       ],
       "layout": {
        "annotations": [
         {
          "font": {
           "size": 16
          },
          "showarrow": false,
          "text": "Topic 0",
          "x": 0.0875,
          "xanchor": "center",
          "xref": "paper",
          "y": 1,
          "yanchor": "bottom",
          "yref": "paper"
         },
         {
          "font": {
           "size": 16
          },
          "showarrow": false,
          "text": "Topic 1",
          "x": 0.36250000000000004,
          "xanchor": "center",
          "xref": "paper",
          "y": 1,
          "yanchor": "bottom",
          "yref": "paper"
         },
         {
          "font": {
           "size": 16
          },
          "showarrow": false,
          "text": "Topic 2",
          "x": 0.6375000000000001,
          "xanchor": "center",
          "xref": "paper",
          "y": 1,
          "yanchor": "bottom",
          "yref": "paper"
         },
         {
          "font": {
           "size": 16
          },
          "showarrow": false,
          "text": "Topic 3",
          "x": 0.9125,
          "xanchor": "center",
          "xref": "paper",
          "y": 1,
          "yanchor": "bottom",
          "yref": "paper"
         },
         {
          "font": {
           "size": 16
          },
          "showarrow": false,
          "text": "Topic 4",
          "x": 0.0875,
          "xanchor": "center",
          "xref": "paper",
          "y": 0.8687499999999999,
          "yanchor": "bottom",
          "yref": "paper"
         },
         {
          "font": {
           "size": 16
          },
          "showarrow": false,
          "text": "Topic 5",
          "x": 0.36250000000000004,
          "xanchor": "center",
          "xref": "paper",
          "y": 0.8687499999999999,
          "yanchor": "bottom",
          "yref": "paper"
         },
         {
          "font": {
           "size": 16
          },
          "showarrow": false,
          "text": "Topic 6",
          "x": 0.6375000000000001,
          "xanchor": "center",
          "xref": "paper",
          "y": 0.8687499999999999,
          "yanchor": "bottom",
          "yref": "paper"
         },
         {
          "font": {
           "size": 16
          },
          "showarrow": false,
          "text": "Topic 7",
          "x": 0.9125,
          "xanchor": "center",
          "xref": "paper",
          "y": 0.8687499999999999,
          "yanchor": "bottom",
          "yref": "paper"
         },
         {
          "font": {
           "size": 16
          },
          "showarrow": false,
          "text": "Topic 8",
          "x": 0.0875,
          "xanchor": "center",
          "xref": "paper",
          "y": 0.7375,
          "yanchor": "bottom",
          "yref": "paper"
         },
         {
          "font": {
           "size": 16
          },
          "showarrow": false,
          "text": "Topic 9",
          "x": 0.36250000000000004,
          "xanchor": "center",
          "xref": "paper",
          "y": 0.7375,
          "yanchor": "bottom",
          "yref": "paper"
         },
         {
          "font": {
           "size": 16
          },
          "showarrow": false,
          "text": "Topic 10",
          "x": 0.6375000000000001,
          "xanchor": "center",
          "xref": "paper",
          "y": 0.7375,
          "yanchor": "bottom",
          "yref": "paper"
         },
         {
          "font": {
           "size": 16
          },
          "showarrow": false,
          "text": "Topic 11",
          "x": 0.9125,
          "xanchor": "center",
          "xref": "paper",
          "y": 0.7375,
          "yanchor": "bottom",
          "yref": "paper"
         },
         {
          "font": {
           "size": 16
          },
          "showarrow": false,
          "text": "Topic 12",
          "x": 0.0875,
          "xanchor": "center",
          "xref": "paper",
          "y": 0.60625,
          "yanchor": "bottom",
          "yref": "paper"
         },
         {
          "font": {
           "size": 16
          },
          "showarrow": false,
          "text": "Topic 13",
          "x": 0.36250000000000004,
          "xanchor": "center",
          "xref": "paper",
          "y": 0.60625,
          "yanchor": "bottom",
          "yref": "paper"
         },
         {
          "font": {
           "size": 16
          },
          "showarrow": false,
          "text": "Topic 14",
          "x": 0.6375000000000001,
          "xanchor": "center",
          "xref": "paper",
          "y": 0.60625,
          "yanchor": "bottom",
          "yref": "paper"
         },
         {
          "font": {
           "size": 16
          },
          "showarrow": false,
          "text": "Topic 15",
          "x": 0.9125,
          "xanchor": "center",
          "xref": "paper",
          "y": 0.60625,
          "yanchor": "bottom",
          "yref": "paper"
         },
         {
          "font": {
           "size": 16
          },
          "showarrow": false,
          "text": "Topic 16",
          "x": 0.0875,
          "xanchor": "center",
          "xref": "paper",
          "y": 0.475,
          "yanchor": "bottom",
          "yref": "paper"
         },
         {
          "font": {
           "size": 16
          },
          "showarrow": false,
          "text": "Topic 17",
          "x": 0.36250000000000004,
          "xanchor": "center",
          "xref": "paper",
          "y": 0.475,
          "yanchor": "bottom",
          "yref": "paper"
         },
         {
          "font": {
           "size": 16
          },
          "showarrow": false,
          "text": "Topic 18",
          "x": 0.6375000000000001,
          "xanchor": "center",
          "xref": "paper",
          "y": 0.475,
          "yanchor": "bottom",
          "yref": "paper"
         },
         {
          "font": {
           "size": 16
          },
          "showarrow": false,
          "text": "Topic 19",
          "x": 0.9125,
          "xanchor": "center",
          "xref": "paper",
          "y": 0.475,
          "yanchor": "bottom",
          "yref": "paper"
         },
         {
          "font": {
           "size": 16
          },
          "showarrow": false,
          "text": "Topic 20",
          "x": 0.0875,
          "xanchor": "center",
          "xref": "paper",
          "y": 0.34374999999999994,
          "yanchor": "bottom",
          "yref": "paper"
         },
         {
          "font": {
           "size": 16
          },
          "showarrow": false,
          "text": "Topic 21",
          "x": 0.36250000000000004,
          "xanchor": "center",
          "xref": "paper",
          "y": 0.34374999999999994,
          "yanchor": "bottom",
          "yref": "paper"
         },
         {
          "font": {
           "size": 16
          },
          "showarrow": false,
          "text": "Topic 22",
          "x": 0.6375000000000001,
          "xanchor": "center",
          "xref": "paper",
          "y": 0.34374999999999994,
          "yanchor": "bottom",
          "yref": "paper"
         },
         {
          "font": {
           "size": 16
          },
          "showarrow": false,
          "text": "Topic 23",
          "x": 0.9125,
          "xanchor": "center",
          "xref": "paper",
          "y": 0.34374999999999994,
          "yanchor": "bottom",
          "yref": "paper"
         },
         {
          "font": {
           "size": 16
          },
          "showarrow": false,
          "text": "Topic 24",
          "x": 0.0875,
          "xanchor": "center",
          "xref": "paper",
          "y": 0.21249999999999997,
          "yanchor": "bottom",
          "yref": "paper"
         },
         {
          "font": {
           "size": 16
          },
          "showarrow": false,
          "text": "Topic 25",
          "x": 0.36250000000000004,
          "xanchor": "center",
          "xref": "paper",
          "y": 0.21249999999999997,
          "yanchor": "bottom",
          "yref": "paper"
         },
         {
          "font": {
           "size": 16
          },
          "showarrow": false,
          "text": "Topic 26",
          "x": 0.6375000000000001,
          "xanchor": "center",
          "xref": "paper",
          "y": 0.21249999999999997,
          "yanchor": "bottom",
          "yref": "paper"
         },
         {
          "font": {
           "size": 16
          },
          "showarrow": false,
          "text": "Topic 27",
          "x": 0.9125,
          "xanchor": "center",
          "xref": "paper",
          "y": 0.21249999999999997,
          "yanchor": "bottom",
          "yref": "paper"
         },
         {
          "font": {
           "size": 16
          },
          "showarrow": false,
          "text": "Topic 28",
          "x": 0.0875,
          "xanchor": "center",
          "xref": "paper",
          "y": 0.08124999999999999,
          "yanchor": "bottom",
          "yref": "paper"
         },
         {
          "font": {
           "size": 16
          },
          "showarrow": false,
          "text": "Topic 29",
          "x": 0.36250000000000004,
          "xanchor": "center",
          "xref": "paper",
          "y": 0.08124999999999999,
          "yanchor": "bottom",
          "yref": "paper"
         },
         {
          "font": {
           "size": 16
          },
          "showarrow": false,
          "text": "Topic 30",
          "x": 0.6375000000000001,
          "xanchor": "center",
          "xref": "paper",
          "y": 0.08124999999999999,
          "yanchor": "bottom",
          "yref": "paper"
         },
         {
          "font": {
           "size": 16
          },
          "showarrow": false,
          "text": "Topic 31",
          "x": 0.9125,
          "xanchor": "center",
          "xref": "paper",
          "y": 0.08124999999999999,
          "yanchor": "bottom",
          "yref": "paper"
         }
        ],
        "height": 2000,
        "hoverlabel": {
         "bgcolor": "white",
         "font": {
          "family": "Rockwell",
          "size": 16
         }
        },
        "showlegend": false,
        "template": {
         "data": {
          "bar": [
           {
            "error_x": {
             "color": "#2a3f5f"
            },
            "error_y": {
             "color": "#2a3f5f"
            },
            "marker": {
             "line": {
              "color": "white",
              "width": 0.5
             },
             "pattern": {
              "fillmode": "overlay",
              "size": 10,
              "solidity": 0.2
             }
            },
            "type": "bar"
           }
          ],
          "barpolar": [
           {
            "marker": {
             "line": {
              "color": "white",
              "width": 0.5
             },
             "pattern": {
              "fillmode": "overlay",
              "size": 10,
              "solidity": 0.2
             }
            },
            "type": "barpolar"
           }
          ],
          "carpet": [
           {
            "aaxis": {
             "endlinecolor": "#2a3f5f",
             "gridcolor": "#C8D4E3",
             "linecolor": "#C8D4E3",
             "minorgridcolor": "#C8D4E3",
             "startlinecolor": "#2a3f5f"
            },
            "baxis": {
             "endlinecolor": "#2a3f5f",
             "gridcolor": "#C8D4E3",
             "linecolor": "#C8D4E3",
             "minorgridcolor": "#C8D4E3",
             "startlinecolor": "#2a3f5f"
            },
            "type": "carpet"
           }
          ],
          "choropleth": [
           {
            "colorbar": {
             "outlinewidth": 0,
             "ticks": ""
            },
            "type": "choropleth"
           }
          ],
          "contour": [
           {
            "colorbar": {
             "outlinewidth": 0,
             "ticks": ""
            },
            "colorscale": [
             [
              0,
              "#0d0887"
             ],
             [
              0.1111111111111111,
              "#46039f"
             ],
             [
              0.2222222222222222,
              "#7201a8"
             ],
             [
              0.3333333333333333,
              "#9c179e"
             ],
             [
              0.4444444444444444,
              "#bd3786"
             ],
             [
              0.5555555555555556,
              "#d8576b"
             ],
             [
              0.6666666666666666,
              "#ed7953"
             ],
             [
              0.7777777777777778,
              "#fb9f3a"
             ],
             [
              0.8888888888888888,
              "#fdca26"
             ],
             [
              1,
              "#f0f921"
             ]
            ],
            "type": "contour"
           }
          ],
          "contourcarpet": [
           {
            "colorbar": {
             "outlinewidth": 0,
             "ticks": ""
            },
            "type": "contourcarpet"
           }
          ],
          "heatmap": [
           {
            "colorbar": {
             "outlinewidth": 0,
             "ticks": ""
            },
            "colorscale": [
             [
              0,
              "#0d0887"
             ],
             [
              0.1111111111111111,
              "#46039f"
             ],
             [
              0.2222222222222222,
              "#7201a8"
             ],
             [
              0.3333333333333333,
              "#9c179e"
             ],
             [
              0.4444444444444444,
              "#bd3786"
             ],
             [
              0.5555555555555556,
              "#d8576b"
             ],
             [
              0.6666666666666666,
              "#ed7953"
             ],
             [
              0.7777777777777778,
              "#fb9f3a"
             ],
             [
              0.8888888888888888,
              "#fdca26"
             ],
             [
              1,
              "#f0f921"
             ]
            ],
            "type": "heatmap"
           }
          ],
          "heatmapgl": [
           {
            "colorbar": {
             "outlinewidth": 0,
             "ticks": ""
            },
            "colorscale": [
             [
              0,
              "#0d0887"
             ],
             [
              0.1111111111111111,
              "#46039f"
             ],
             [
              0.2222222222222222,
              "#7201a8"
             ],
             [
              0.3333333333333333,
              "#9c179e"
             ],
             [
              0.4444444444444444,
              "#bd3786"
             ],
             [
              0.5555555555555556,
              "#d8576b"
             ],
             [
              0.6666666666666666,
              "#ed7953"
             ],
             [
              0.7777777777777778,
              "#fb9f3a"
             ],
             [
              0.8888888888888888,
              "#fdca26"
             ],
             [
              1,
              "#f0f921"
             ]
            ],
            "type": "heatmapgl"
           }
          ],
          "histogram": [
           {
            "marker": {
             "pattern": {
              "fillmode": "overlay",
              "size": 10,
              "solidity": 0.2
             }
            },
            "type": "histogram"
           }
          ],
          "histogram2d": [
           {
            "colorbar": {
             "outlinewidth": 0,
             "ticks": ""
            },
            "colorscale": [
             [
              0,
              "#0d0887"
             ],
             [
              0.1111111111111111,
              "#46039f"
             ],
             [
              0.2222222222222222,
              "#7201a8"
             ],
             [
              0.3333333333333333,
              "#9c179e"
             ],
             [
              0.4444444444444444,
              "#bd3786"
             ],
             [
              0.5555555555555556,
              "#d8576b"
             ],
             [
              0.6666666666666666,
              "#ed7953"
             ],
             [
              0.7777777777777778,
              "#fb9f3a"
             ],
             [
              0.8888888888888888,
              "#fdca26"
             ],
             [
              1,
              "#f0f921"
             ]
            ],
            "type": "histogram2d"
           }
          ],
          "histogram2dcontour": [
           {
            "colorbar": {
             "outlinewidth": 0,
             "ticks": ""
            },
            "colorscale": [
             [
              0,
              "#0d0887"
             ],
             [
              0.1111111111111111,
              "#46039f"
             ],
             [
              0.2222222222222222,
              "#7201a8"
             ],
             [
              0.3333333333333333,
              "#9c179e"
             ],
             [
              0.4444444444444444,
              "#bd3786"
             ],
             [
              0.5555555555555556,
              "#d8576b"
             ],
             [
              0.6666666666666666,
              "#ed7953"
             ],
             [
              0.7777777777777778,
              "#fb9f3a"
             ],
             [
              0.8888888888888888,
              "#fdca26"
             ],
             [
              1,
              "#f0f921"
             ]
            ],
            "type": "histogram2dcontour"
           }
          ],
          "mesh3d": [
           {
            "colorbar": {
             "outlinewidth": 0,
             "ticks": ""
            },
            "type": "mesh3d"
           }
          ],
          "parcoords": [
           {
            "line": {
             "colorbar": {
              "outlinewidth": 0,
              "ticks": ""
             }
            },
            "type": "parcoords"
           }
          ],
          "pie": [
           {
            "automargin": true,
            "type": "pie"
           }
          ],
          "scatter": [
           {
            "fillpattern": {
             "fillmode": "overlay",
             "size": 10,
             "solidity": 0.2
            },
            "type": "scatter"
           }
          ],
          "scatter3d": [
           {
            "line": {
             "colorbar": {
              "outlinewidth": 0,
              "ticks": ""
             }
            },
            "marker": {
             "colorbar": {
              "outlinewidth": 0,
              "ticks": ""
             }
            },
            "type": "scatter3d"
           }
          ],
          "scattercarpet": [
           {
            "marker": {
             "colorbar": {
              "outlinewidth": 0,
              "ticks": ""
             }
            },
            "type": "scattercarpet"
           }
          ],
          "scattergeo": [
           {
            "marker": {
             "colorbar": {
              "outlinewidth": 0,
              "ticks": ""
             }
            },
            "type": "scattergeo"
           }
          ],
          "scattergl": [
           {
            "marker": {
             "colorbar": {
              "outlinewidth": 0,
              "ticks": ""
             }
            },
            "type": "scattergl"
           }
          ],
          "scattermapbox": [
           {
            "marker": {
             "colorbar": {
              "outlinewidth": 0,
              "ticks": ""
             }
            },
            "type": "scattermapbox"
           }
          ],
          "scatterpolar": [
           {
            "marker": {
             "colorbar": {
              "outlinewidth": 0,
              "ticks": ""
             }
            },
            "type": "scatterpolar"
           }
          ],
          "scatterpolargl": [
           {
            "marker": {
             "colorbar": {
              "outlinewidth": 0,
              "ticks": ""
             }
            },
            "type": "scatterpolargl"
           }
          ],
          "scatterternary": [
           {
            "marker": {
             "colorbar": {
              "outlinewidth": 0,
              "ticks": ""
             }
            },
            "type": "scatterternary"
           }
          ],
          "surface": [
           {
            "colorbar": {
             "outlinewidth": 0,
             "ticks": ""
            },
            "colorscale": [
             [
              0,
              "#0d0887"
             ],
             [
              0.1111111111111111,
              "#46039f"
             ],
             [
              0.2222222222222222,
              "#7201a8"
             ],
             [
              0.3333333333333333,
              "#9c179e"
             ],
             [
              0.4444444444444444,
              "#bd3786"
             ],
             [
              0.5555555555555556,
              "#d8576b"
             ],
             [
              0.6666666666666666,
              "#ed7953"
             ],
             [
              0.7777777777777778,
              "#fb9f3a"
             ],
             [
              0.8888888888888888,
              "#fdca26"
             ],
             [
              1,
              "#f0f921"
             ]
            ],
            "type": "surface"
           }
          ],
          "table": [
           {
            "cells": {
             "fill": {
              "color": "#EBF0F8"
             },
             "line": {
              "color": "white"
             }
            },
            "header": {
             "fill": {
              "color": "#C8D4E3"
             },
             "line": {
              "color": "white"
             }
            },
            "type": "table"
           }
          ]
         },
         "layout": {
          "annotationdefaults": {
           "arrowcolor": "#2a3f5f",
           "arrowhead": 0,
           "arrowwidth": 1
          },
          "autotypenumbers": "strict",
          "coloraxis": {
           "colorbar": {
            "outlinewidth": 0,
            "ticks": ""
           }
          },
          "colorscale": {
           "diverging": [
            [
             0,
             "#8e0152"
            ],
            [
             0.1,
             "#c51b7d"
            ],
            [
             0.2,
             "#de77ae"
            ],
            [
             0.3,
             "#f1b6da"
            ],
            [
             0.4,
             "#fde0ef"
            ],
            [
             0.5,
             "#f7f7f7"
            ],
            [
             0.6,
             "#e6f5d0"
            ],
            [
             0.7,
             "#b8e186"
            ],
            [
             0.8,
             "#7fbc41"
            ],
            [
             0.9,
             "#4d9221"
            ],
            [
             1,
             "#276419"
            ]
           ],
           "sequential": [
            [
             0,
             "#0d0887"
            ],
            [
             0.1111111111111111,
             "#46039f"
            ],
            [
             0.2222222222222222,
             "#7201a8"
            ],
            [
             0.3333333333333333,
             "#9c179e"
            ],
            [
             0.4444444444444444,
             "#bd3786"
            ],
            [
             0.5555555555555556,
             "#d8576b"
            ],
            [
             0.6666666666666666,
             "#ed7953"
            ],
            [
             0.7777777777777778,
             "#fb9f3a"
            ],
            [
             0.8888888888888888,
             "#fdca26"
            ],
            [
             1,
             "#f0f921"
            ]
           ],
           "sequentialminus": [
            [
             0,
             "#0d0887"
            ],
            [
             0.1111111111111111,
             "#46039f"
            ],
            [
             0.2222222222222222,
             "#7201a8"
            ],
            [
             0.3333333333333333,
             "#9c179e"
            ],
            [
             0.4444444444444444,
             "#bd3786"
            ],
            [
             0.5555555555555556,
             "#d8576b"
            ],
            [
             0.6666666666666666,
             "#ed7953"
            ],
            [
             0.7777777777777778,
             "#fb9f3a"
            ],
            [
             0.8888888888888888,
             "#fdca26"
            ],
            [
             1,
             "#f0f921"
            ]
           ]
          },
          "colorway": [
           "#636efa",
           "#EF553B",
           "#00cc96",
           "#ab63fa",
           "#FFA15A",
           "#19d3f3",
           "#FF6692",
           "#B6E880",
           "#FF97FF",
           "#FECB52"
          ],
          "font": {
           "color": "#2a3f5f"
          },
          "geo": {
           "bgcolor": "white",
           "lakecolor": "white",
           "landcolor": "white",
           "showlakes": true,
           "showland": true,
           "subunitcolor": "#C8D4E3"
          },
          "hoverlabel": {
           "align": "left"
          },
          "hovermode": "closest",
          "mapbox": {
           "style": "light"
          },
          "paper_bgcolor": "white",
          "plot_bgcolor": "white",
          "polar": {
           "angularaxis": {
            "gridcolor": "#EBF0F8",
            "linecolor": "#EBF0F8",
            "ticks": ""
           },
           "bgcolor": "white",
           "radialaxis": {
            "gridcolor": "#EBF0F8",
            "linecolor": "#EBF0F8",
            "ticks": ""
           }
          },
          "scene": {
           "xaxis": {
            "backgroundcolor": "white",
            "gridcolor": "#DFE8F3",
            "gridwidth": 2,
            "linecolor": "#EBF0F8",
            "showbackground": true,
            "ticks": "",
            "zerolinecolor": "#EBF0F8"
           },
           "yaxis": {
            "backgroundcolor": "white",
            "gridcolor": "#DFE8F3",
            "gridwidth": 2,
            "linecolor": "#EBF0F8",
            "showbackground": true,
            "ticks": "",
            "zerolinecolor": "#EBF0F8"
           },
           "zaxis": {
            "backgroundcolor": "white",
            "gridcolor": "#DFE8F3",
            "gridwidth": 2,
            "linecolor": "#EBF0F8",
            "showbackground": true,
            "ticks": "",
            "zerolinecolor": "#EBF0F8"
           }
          },
          "shapedefaults": {
           "line": {
            "color": "#2a3f5f"
           }
          },
          "ternary": {
           "aaxis": {
            "gridcolor": "#DFE8F3",
            "linecolor": "#A2B1C6",
            "ticks": ""
           },
           "baxis": {
            "gridcolor": "#DFE8F3",
            "linecolor": "#A2B1C6",
            "ticks": ""
           },
           "bgcolor": "white",
           "caxis": {
            "gridcolor": "#DFE8F3",
            "linecolor": "#A2B1C6",
            "ticks": ""
           }
          },
          "title": {
           "x": 0.05
          },
          "xaxis": {
           "automargin": true,
           "gridcolor": "#EBF0F8",
           "linecolor": "#EBF0F8",
           "ticks": "",
           "title": {
            "standoff": 15
           },
           "zerolinecolor": "#EBF0F8",
           "zerolinewidth": 2
          },
          "yaxis": {
           "automargin": true,
           "gridcolor": "#EBF0F8",
           "linecolor": "#EBF0F8",
           "ticks": "",
           "title": {
            "standoff": 15
           },
           "zerolinecolor": "#EBF0F8",
           "zerolinewidth": 2
          }
         }
        },
        "title": {
         "font": {
          "color": "Black",
          "size": 22
         },
         "text": "Topic Word Scores",
         "x": 0.5,
         "xanchor": "center",
         "yanchor": "top"
        },
        "width": 1000,
        "xaxis": {
         "anchor": "y",
         "domain": [
          0,
          0.175
         ],
         "showgrid": true
        },
        "xaxis10": {
         "anchor": "y10",
         "domain": [
          0.275,
          0.45
         ],
         "showgrid": true
        },
        "xaxis11": {
         "anchor": "y11",
         "domain": [
          0.55,
          0.7250000000000001
         ],
         "showgrid": true
        },
        "xaxis12": {
         "anchor": "y12",
         "domain": [
          0.825,
          1
         ],
         "showgrid": true
        },
        "xaxis13": {
         "anchor": "y13",
         "domain": [
          0,
          0.175
         ],
         "showgrid": true
        },
        "xaxis14": {
         "anchor": "y14",
         "domain": [
          0.275,
          0.45
         ],
         "showgrid": true
        },
        "xaxis15": {
         "anchor": "y15",
         "domain": [
          0.55,
          0.7250000000000001
         ],
         "showgrid": true
        },
        "xaxis16": {
         "anchor": "y16",
         "domain": [
          0.825,
          1
         ],
         "showgrid": true
        },
        "xaxis17": {
         "anchor": "y17",
         "domain": [
          0,
          0.175
         ],
         "showgrid": true
        },
        "xaxis18": {
         "anchor": "y18",
         "domain": [
          0.275,
          0.45
         ],
         "showgrid": true
        },
        "xaxis19": {
         "anchor": "y19",
         "domain": [
          0.55,
          0.7250000000000001
         ],
         "showgrid": true
        },
        "xaxis2": {
         "anchor": "y2",
         "domain": [
          0.275,
          0.45
         ],
         "showgrid": true
        },
        "xaxis20": {
         "anchor": "y20",
         "domain": [
          0.825,
          1
         ],
         "showgrid": true
        },
        "xaxis21": {
         "anchor": "y21",
         "domain": [
          0,
          0.175
         ],
         "showgrid": true
        },
        "xaxis22": {
         "anchor": "y22",
         "domain": [
          0.275,
          0.45
         ],
         "showgrid": true
        },
        "xaxis23": {
         "anchor": "y23",
         "domain": [
          0.55,
          0.7250000000000001
         ],
         "showgrid": true
        },
        "xaxis24": {
         "anchor": "y24",
         "domain": [
          0.825,
          1
         ],
         "showgrid": true
        },
        "xaxis25": {
         "anchor": "y25",
         "domain": [
          0,
          0.175
         ],
         "showgrid": true
        },
        "xaxis26": {
         "anchor": "y26",
         "domain": [
          0.275,
          0.45
         ],
         "showgrid": true
        },
        "xaxis27": {
         "anchor": "y27",
         "domain": [
          0.55,
          0.7250000000000001
         ],
         "showgrid": true
        },
        "xaxis28": {
         "anchor": "y28",
         "domain": [
          0.825,
          1
         ],
         "showgrid": true
        },
        "xaxis29": {
         "anchor": "y29",
         "domain": [
          0,
          0.175
         ],
         "showgrid": true
        },
        "xaxis3": {
         "anchor": "y3",
         "domain": [
          0.55,
          0.7250000000000001
         ],
         "showgrid": true
        },
        "xaxis30": {
         "anchor": "y30",
         "domain": [
          0.275,
          0.45
         ],
         "showgrid": true
        },
        "xaxis31": {
         "anchor": "y31",
         "domain": [
          0.55,
          0.7250000000000001
         ],
         "showgrid": true
        },
        "xaxis32": {
         "anchor": "y32",
         "domain": [
          0.825,
          1
         ],
         "showgrid": true
        },
        "xaxis4": {
         "anchor": "y4",
         "domain": [
          0.825,
          1
         ],
         "showgrid": true
        },
        "xaxis5": {
         "anchor": "y5",
         "domain": [
          0,
          0.175
         ],
         "showgrid": true
        },
        "xaxis6": {
         "anchor": "y6",
         "domain": [
          0.275,
          0.45
         ],
         "showgrid": true
        },
        "xaxis7": {
         "anchor": "y7",
         "domain": [
          0.55,
          0.7250000000000001
         ],
         "showgrid": true
        },
        "xaxis8": {
         "anchor": "y8",
         "domain": [
          0.825,
          1
         ],
         "showgrid": true
        },
        "xaxis9": {
         "anchor": "y9",
         "domain": [
          0,
          0.175
         ],
         "showgrid": true
        },
        "yaxis": {
         "anchor": "x",
         "domain": [
          0.91875,
          1
         ],
         "showgrid": true
        },
        "yaxis10": {
         "anchor": "x10",
         "domain": [
          0.65625,
          0.7375
         ],
         "showgrid": true
        },
        "yaxis11": {
         "anchor": "x11",
         "domain": [
          0.65625,
          0.7375
         ],
         "showgrid": true
        },
        "yaxis12": {
         "anchor": "x12",
         "domain": [
          0.65625,
          0.7375
         ],
         "showgrid": true
        },
        "yaxis13": {
         "anchor": "x13",
         "domain": [
          0.5249999999999999,
          0.60625
         ],
         "showgrid": true
        },
        "yaxis14": {
         "anchor": "x14",
         "domain": [
          0.5249999999999999,
          0.60625
         ],
         "showgrid": true
        },
        "yaxis15": {
         "anchor": "x15",
         "domain": [
          0.5249999999999999,
          0.60625
         ],
         "showgrid": true
        },
        "yaxis16": {
         "anchor": "x16",
         "domain": [
          0.5249999999999999,
          0.60625
         ],
         "showgrid": true
        },
        "yaxis17": {
         "anchor": "x17",
         "domain": [
          0.39375,
          0.475
         ],
         "showgrid": true
        },
        "yaxis18": {
         "anchor": "x18",
         "domain": [
          0.39375,
          0.475
         ],
         "showgrid": true
        },
        "yaxis19": {
         "anchor": "x19",
         "domain": [
          0.39375,
          0.475
         ],
         "showgrid": true
        },
        "yaxis2": {
         "anchor": "x2",
         "domain": [
          0.91875,
          1
         ],
         "showgrid": true
        },
        "yaxis20": {
         "anchor": "x20",
         "domain": [
          0.39375,
          0.475
         ],
         "showgrid": true
        },
        "yaxis21": {
         "anchor": "x21",
         "domain": [
          0.26249999999999996,
          0.34374999999999994
         ],
         "showgrid": true
        },
        "yaxis22": {
         "anchor": "x22",
         "domain": [
          0.26249999999999996,
          0.34374999999999994
         ],
         "showgrid": true
        },
        "yaxis23": {
         "anchor": "x23",
         "domain": [
          0.26249999999999996,
          0.34374999999999994
         ],
         "showgrid": true
        },
        "yaxis24": {
         "anchor": "x24",
         "domain": [
          0.26249999999999996,
          0.34374999999999994
         ],
         "showgrid": true
        },
        "yaxis25": {
         "anchor": "x25",
         "domain": [
          0.13124999999999998,
          0.21249999999999997
         ],
         "showgrid": true
        },
        "yaxis26": {
         "anchor": "x26",
         "domain": [
          0.13124999999999998,
          0.21249999999999997
         ],
         "showgrid": true
        },
        "yaxis27": {
         "anchor": "x27",
         "domain": [
          0.13124999999999998,
          0.21249999999999997
         ],
         "showgrid": true
        },
        "yaxis28": {
         "anchor": "x28",
         "domain": [
          0.13124999999999998,
          0.21249999999999997
         ],
         "showgrid": true
        },
        "yaxis29": {
         "anchor": "x29",
         "domain": [
          0,
          0.08124999999999999
         ],
         "showgrid": true
        },
        "yaxis3": {
         "anchor": "x3",
         "domain": [
          0.91875,
          1
         ],
         "showgrid": true
        },
        "yaxis30": {
         "anchor": "x30",
         "domain": [
          0,
          0.08124999999999999
         ],
         "showgrid": true
        },
        "yaxis31": {
         "anchor": "x31",
         "domain": [
          0,
          0.08124999999999999
         ],
         "showgrid": true
        },
        "yaxis32": {
         "anchor": "x32",
         "domain": [
          0,
          0.08124999999999999
         ],
         "showgrid": true
        },
        "yaxis4": {
         "anchor": "x4",
         "domain": [
          0.91875,
          1
         ],
         "showgrid": true
        },
        "yaxis5": {
         "anchor": "x5",
         "domain": [
          0.7875,
          0.8687499999999999
         ],
         "showgrid": true
        },
        "yaxis6": {
         "anchor": "x6",
         "domain": [
          0.7875,
          0.8687499999999999
         ],
         "showgrid": true
        },
        "yaxis7": {
         "anchor": "x7",
         "domain": [
          0.7875,
          0.8687499999999999
         ],
         "showgrid": true
        },
        "yaxis8": {
         "anchor": "x8",
         "domain": [
          0.7875,
          0.8687499999999999
         ],
         "showgrid": true
        },
        "yaxis9": {
         "anchor": "x9",
         "domain": [
          0.65625,
          0.7375
         ],
         "showgrid": true
        }
       }
      }
     },
     "metadata": {},
     "output_type": "display_data"
    }
   ],
   "source": [
    "loaded_model.visualize_barchart(top_n_topics = 32,n_words=8)"
   ]
  },
  {
   "cell_type": "code",
   "execution_count": 45,
   "metadata": {},
   "outputs": [],
   "source": [
    "import pandas as pd\n",
    "import numpy as np\n",
    "clean_data = \"../data/clean_modeling_data.csv\"\n",
    "data = pd.read_csv(clean_data)\n",
    "docs = data['comment']"
   ]
  },
  {
   "cell_type": "code",
   "execution_count": 46,
   "metadata": {},
   "outputs": [
    {
     "data": {
      "text/html": [
       "<div>\n",
       "<style scoped>\n",
       "    .dataframe tbody tr th:only-of-type {\n",
       "        vertical-align: middle;\n",
       "    }\n",
       "\n",
       "    .dataframe tbody tr th {\n",
       "        vertical-align: top;\n",
       "    }\n",
       "\n",
       "    .dataframe thead th {\n",
       "        text-align: right;\n",
       "    }\n",
       "</style>\n",
       "<table border=\"1\" class=\"dataframe\">\n",
       "  <thead>\n",
       "    <tr style=\"text-align: right;\">\n",
       "      <th></th>\n",
       "      <th>Document</th>\n",
       "      <th>Topic</th>\n",
       "      <th>Name</th>\n",
       "      <th>Representation</th>\n",
       "      <th>Representative_Docs</th>\n",
       "      <th>Top_n_words</th>\n",
       "      <th>Representative_document</th>\n",
       "    </tr>\n",
       "  </thead>\n",
       "  <tbody>\n",
       "    <tr>\n",
       "      <th>0</th>\n",
       "      <td>So it appears Tesla found a bug in their app a...</td>\n",
       "      <td>-1</td>\n",
       "      <td>-1_solar_years_would_power</td>\n",
       "      <td>[solar, years, would, power, grid, batteries, ...</td>\n",
       "      <td>NaN</td>\n",
       "      <td>solar - years - would - power - grid - batteri...</td>\n",
       "      <td>False</td>\n",
       "    </tr>\n",
       "    <tr>\n",
       "      <th>1</th>\n",
       "      <td>Why didn’t you factor any SREC’s into your cal...</td>\n",
       "      <td>99</td>\n",
       "      <td>99_srecs_srec_nj_jersey</td>\n",
       "      <td>[srecs, srec, nj, jersey, srecs nj, nj get, ne...</td>\n",
       "      <td>NaN</td>\n",
       "      <td>srecs - srec - nj - jersey - srecs nj - nj get...</td>\n",
       "      <td>False</td>\n",
       "    </tr>\n",
       "    <tr>\n",
       "      <th>2</th>\n",
       "      <td>Straight from Twitter link after you posted th...</td>\n",
       "      <td>-1</td>\n",
       "      <td>-1_solar_years_would_power</td>\n",
       "      <td>[solar, years, would, power, grid, batteries, ...</td>\n",
       "      <td>NaN</td>\n",
       "      <td>solar - years - would - power - grid - batteri...</td>\n",
       "      <td>False</td>\n",
       "    </tr>\n",
       "    <tr>\n",
       "      <th>3</th>\n",
       "      <td>Yes, you cannot produce 350 kWh of energy in a...</td>\n",
       "      <td>22</td>\n",
       "      <td>22_kwh_day_consumption_solar</td>\n",
       "      <td>[kwh, day, consumption, solar, kw, system, per...</td>\n",
       "      <td>NaN</td>\n",
       "      <td>kwh - day - consumption - solar - kw - system ...</td>\n",
       "      <td>False</td>\n",
       "    </tr>\n",
       "    <tr>\n",
       "      <th>4</th>\n",
       "      <td>I may have missed it but don't you sell electr...</td>\n",
       "      <td>3</td>\n",
       "      <td>3_grid_company_back_sell</td>\n",
       "      <td>[grid, company, back, sell, back grid, credits...</td>\n",
       "      <td>NaN</td>\n",
       "      <td>grid - company - back - sell - back grid - cre...</td>\n",
       "      <td>False</td>\n",
       "    </tr>\n",
       "    <tr>\n",
       "      <th>...</th>\n",
       "      <td>...</td>\n",
       "      <td>...</td>\n",
       "      <td>...</td>\n",
       "      <td>...</td>\n",
       "      <td>...</td>\n",
       "      <td>...</td>\n",
       "      <td>...</td>\n",
       "    </tr>\n",
       "    <tr>\n",
       "      <th>25827</th>\n",
       "      <td>OK useful comment now. That was awesome. I can...</td>\n",
       "      <td>-1</td>\n",
       "      <td>-1_solar_years_would_power</td>\n",
       "      <td>[solar, years, would, power, grid, batteries, ...</td>\n",
       "      <td>NaN</td>\n",
       "      <td>solar - years - would - power - grid - batteri...</td>\n",
       "      <td>False</td>\n",
       "    </tr>\n",
       "    <tr>\n",
       "      <th>25828</th>\n",
       "      <td>First</td>\n",
       "      <td>-1</td>\n",
       "      <td>-1_solar_years_would_power</td>\n",
       "      <td>[solar, years, would, power, grid, batteries, ...</td>\n",
       "      <td>NaN</td>\n",
       "      <td>solar - years - would - power - grid - batteri...</td>\n",
       "      <td>False</td>\n",
       "    </tr>\n",
       "    <tr>\n",
       "      <th>25829</th>\n",
       "      <td>Your first bro!</td>\n",
       "      <td>-1</td>\n",
       "      <td>-1_solar_years_would_power</td>\n",
       "      <td>[solar, years, would, power, grid, batteries, ...</td>\n",
       "      <td>NaN</td>\n",
       "      <td>solar - years - would - power - grid - batteri...</td>\n",
       "      <td>False</td>\n",
       "    </tr>\n",
       "    <tr>\n",
       "      <th>25830</th>\n",
       "      <td>Congrats, you win</td>\n",
       "      <td>82</td>\n",
       "      <td>82_thanks_thanks thanks_thank thanks_thank thank</td>\n",
       "      <td>[thanks, thanks thanks, thank thanks, thank th...</td>\n",
       "      <td>NaN</td>\n",
       "      <td>thanks - thanks thanks - thank thanks - thank ...</td>\n",
       "      <td>False</td>\n",
       "    </tr>\n",
       "    <tr>\n",
       "      <th>25831</th>\n",
       "      <td>You guys need to like my comment</td>\n",
       "      <td>-1</td>\n",
       "      <td>-1_solar_years_would_power</td>\n",
       "      <td>[solar, years, would, power, grid, batteries, ...</td>\n",
       "      <td>NaN</td>\n",
       "      <td>solar - years - would - power - grid - batteri...</td>\n",
       "      <td>False</td>\n",
       "    </tr>\n",
       "  </tbody>\n",
       "</table>\n",
       "<p>25832 rows × 7 columns</p>\n",
       "</div>"
      ],
      "text/plain": [
       "                                                Document  Topic  \\\n",
       "0      So it appears Tesla found a bug in their app a...     -1   \n",
       "1      Why didn’t you factor any SREC’s into your cal...     99   \n",
       "2      Straight from Twitter link after you posted th...     -1   \n",
       "3      Yes, you cannot produce 350 kWh of energy in a...     22   \n",
       "4      I may have missed it but don't you sell electr...      3   \n",
       "...                                                  ...    ...   \n",
       "25827  OK useful comment now. That was awesome. I can...     -1   \n",
       "25828                                              First     -1   \n",
       "25829                                    Your first bro!     -1   \n",
       "25830                                  Congrats, you win     82   \n",
       "25831                   You guys need to like my comment     -1   \n",
       "\n",
       "                                                   Name  \\\n",
       "0                            -1_solar_years_would_power   \n",
       "1                               99_srecs_srec_nj_jersey   \n",
       "2                            -1_solar_years_would_power   \n",
       "3                          22_kwh_day_consumption_solar   \n",
       "4                              3_grid_company_back_sell   \n",
       "...                                                 ...   \n",
       "25827                        -1_solar_years_would_power   \n",
       "25828                        -1_solar_years_would_power   \n",
       "25829                        -1_solar_years_would_power   \n",
       "25830  82_thanks_thanks thanks_thank thanks_thank thank   \n",
       "25831                        -1_solar_years_would_power   \n",
       "\n",
       "                                          Representation  Representative_Docs  \\\n",
       "0      [solar, years, would, power, grid, batteries, ...                  NaN   \n",
       "1      [srecs, srec, nj, jersey, srecs nj, nj get, ne...                  NaN   \n",
       "2      [solar, years, would, power, grid, batteries, ...                  NaN   \n",
       "3      [kwh, day, consumption, solar, kw, system, per...                  NaN   \n",
       "4      [grid, company, back, sell, back grid, credits...                  NaN   \n",
       "...                                                  ...                  ...   \n",
       "25827  [solar, years, would, power, grid, batteries, ...                  NaN   \n",
       "25828  [solar, years, would, power, grid, batteries, ...                  NaN   \n",
       "25829  [solar, years, would, power, grid, batteries, ...                  NaN   \n",
       "25830  [thanks, thanks thanks, thank thanks, thank th...                  NaN   \n",
       "25831  [solar, years, would, power, grid, batteries, ...                  NaN   \n",
       "\n",
       "                                             Top_n_words  \\\n",
       "0      solar - years - would - power - grid - batteri...   \n",
       "1      srecs - srec - nj - jersey - srecs nj - nj get...   \n",
       "2      solar - years - would - power - grid - batteri...   \n",
       "3      kwh - day - consumption - solar - kw - system ...   \n",
       "4      grid - company - back - sell - back grid - cre...   \n",
       "...                                                  ...   \n",
       "25827  solar - years - would - power - grid - batteri...   \n",
       "25828  solar - years - would - power - grid - batteri...   \n",
       "25829  solar - years - would - power - grid - batteri...   \n",
       "25830  thanks - thanks thanks - thank thanks - thank ...   \n",
       "25831  solar - years - would - power - grid - batteri...   \n",
       "\n",
       "       Representative_document  \n",
       "0                        False  \n",
       "1                        False  \n",
       "2                        False  \n",
       "3                        False  \n",
       "4                        False  \n",
       "...                        ...  \n",
       "25827                    False  \n",
       "25828                    False  \n",
       "25829                    False  \n",
       "25830                    False  \n",
       "25831                    False  \n",
       "\n",
       "[25832 rows x 7 columns]"
      ]
     },
     "execution_count": 46,
     "metadata": {},
     "output_type": "execute_result"
    }
   ],
   "source": [
    "loaded_model.get_document_info(docs)"
   ]
  }
 ],
 "metadata": {
  "kernelspec": {
   "display_name": "tf",
   "language": "python",
   "name": "python3"
  },
  "language_info": {
   "codemirror_mode": {
    "name": "ipython",
    "version": 3
   },
   "file_extension": ".py",
   "mimetype": "text/x-python",
   "name": "python",
   "nbconvert_exporter": "python",
   "pygments_lexer": "ipython3",
   "version": "3.10.6"
  }
 },
 "nbformat": 4,
 "nbformat_minor": 2
}
