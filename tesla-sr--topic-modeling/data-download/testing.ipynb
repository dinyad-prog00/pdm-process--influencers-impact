{
 "cells": [
  {
   "cell_type": "code",
   "execution_count": 3,
   "metadata": {},
   "outputs": [
    {
     "data": {
      "text/plain": [
       "True"
      ]
     },
     "execution_count": 3,
     "metadata": {},
     "output_type": "execute_result"
    }
   ],
   "source": [
    "%reload_ext autoreload\n",
    "%autoreload 2\n",
    "\n",
    "from dotenv import load_dotenv\n",
    "from googleapiclient.discovery import build\n",
    "import pandas as pd\n",
    "from langdetect import detect\n",
    "import os\n",
    "\n",
    "from utils import comment_is_in_english, get_comments_for_video\n",
    "load_dotenv()"
   ]
  },
  {
   "cell_type": "code",
   "execution_count": 4,
   "metadata": {},
   "outputs": [],
   "source": [
    "api_key = os.getenv(\"YOUTUBE_API_KEY\")"
   ]
  },
  {
   "cell_type": "code",
   "execution_count": 5,
   "metadata": {},
   "outputs": [],
   "source": [
    "#  Tesla Solar Roof (Examen du toit solaire Tesla : cela en valait-il la peine ?)\n",
    "video_id = \"UJeSWbR6W04\""
   ]
  },
  {
   "cell_type": "code",
   "execution_count": 6,
   "metadata": {},
   "outputs": [],
   "source": [
    "# Build the YouTube client\n",
    "youtube = build(\"youtube\", \"v3\", developerKey=api_key)"
   ]
  },
  {
   "cell_type": "code",
   "execution_count": 7,
   "metadata": {},
   "outputs": [],
   "source": [
    "comment_request = youtube.commentThreads().list(\n",
    "    part=\"snippet\", videoId=video_id, textFormat=\"plainText\", maxResults=5\n",
    ")\n",
    "comment_response = comment_request.execute()"
   ]
  },
  {
   "cell_type": "code",
   "execution_count": 8,
   "metadata": {},
   "outputs": [
    {
     "data": {
      "text/plain": [
       "{'kind': 'youtube#commentThread',\n",
       " 'etag': 'o2X65rI-deVX6RSG2oAfu4kVM38',\n",
       " 'id': 'Ugw7KdFkoA-IFdrqT3l4AaABAg',\n",
       " 'snippet': {'channelId': 'UCBJycsmduvYEL83R_U4JriQ',\n",
       "  'videoId': 'UJeSWbR6W04',\n",
       "  'topLevelComment': {'kind': 'youtube#comment',\n",
       "   'etag': '-f-DIB0vpf2YavHL2Rz99daA4nY',\n",
       "   'id': 'Ugw7KdFkoA-IFdrqT3l4AaABAg',\n",
       "   'snippet': {'channelId': 'UCBJycsmduvYEL83R_U4JriQ',\n",
       "    'videoId': 'UJeSWbR6W04',\n",
       "    'textDisplay': \"So it appears Tesla found a bug in their app after watching this video that accidentally counted all production and usage totals as DOUBLE their actual numbers.\\n\\nDoesn't affect my payback timeline calculations, but it does make more sense that I was seeing ~4000kWh of production in a month, not 8000 🤓\",\n",
       "    'textOriginal': \"So it appears Tesla found a bug in their app after watching this video that accidentally counted all production and usage totals as DOUBLE their actual numbers.\\n\\nDoesn't affect my payback timeline calculations, but it does make more sense that I was seeing ~4000kWh of production in a month, not 8000 🤓\",\n",
       "    'authorDisplayName': '@mkbhd',\n",
       "    'authorProfileImageUrl': 'https://yt3.ggpht.com/lkH37D712tiyphnu0Id0D5MwwQ7IRuwgQLVD05iMXlDWO-kDHut3uI4MgIEAQ9StK0qOST7fiA=s48-c-k-c0x00ffffff-no-rj',\n",
       "    'authorChannelUrl': 'http://www.youtube.com/@mkbhd',\n",
       "    'authorChannelId': {'value': 'UCBJycsmduvYEL83R_U4JriQ'},\n",
       "    'canRate': True,\n",
       "    'viewerRating': 'none',\n",
       "    'likeCount': 5809,\n",
       "    'publishedAt': '2023-08-19T14:35:19Z',\n",
       "    'updatedAt': '2023-08-19T14:35:29Z'}},\n",
       "  'canReply': True,\n",
       "  'totalReplyCount': 279,\n",
       "  'isPublic': True}}"
      ]
     },
     "execution_count": 8,
     "metadata": {},
     "output_type": "execute_result"
    }
   ],
   "source": [
    "comment_response[\"items\"][0]"
   ]
  },
  {
   "cell_type": "code",
   "execution_count": 9,
   "metadata": {},
   "outputs": [],
   "source": [
    "comment_request2 = youtube.comments().list(\n",
    "    part=\"snippet\", parentId=\"Ugw7KdFkoA-IFdrqT3l4AaABAg\", textFormat=\"plainText\", maxResults=1\n",
    ")\n",
    "comment_response2 = comment_request2.execute()"
   ]
  },
  {
   "cell_type": "code",
   "execution_count": 10,
   "metadata": {},
   "outputs": [
    {
     "data": {
      "text/plain": [
       "{'kind': 'youtube#comment',\n",
       " 'etag': 'NNzdvrZNfpzOEurWcmFPISZr3-E',\n",
       " 'id': 'Ugw7KdFkoA-IFdrqT3l4AaABAg.9taoCpiyDBX9tapODS4ea6',\n",
       " 'snippet': {'channelId': 'UCBJycsmduvYEL83R_U4JriQ',\n",
       "  'textDisplay': 'Why didn’t you factor any SREC’s into your calculations? Huge variable when talking about ROI, especially with the production as high as you are showing.',\n",
       "  'textOriginal': 'Why didn’t you factor any SREC’s into your calculations? Huge variable when talking about ROI, especially with the production as high as you are showing.',\n",
       "  'parentId': 'Ugw7KdFkoA-IFdrqT3l4AaABAg',\n",
       "  'authorDisplayName': '@merojeff',\n",
       "  'authorProfileImageUrl': 'https://yt3.ggpht.com/ytc/AIdro_lcnVBvqWYqH1vJ7rTUydIG1719Y_0eIPA2LwCchq8=s48-c-k-c0x00ffffff-no-rj',\n",
       "  'authorChannelUrl': 'http://www.youtube.com/@merojeff',\n",
       "  'authorChannelId': {'value': 'UCUmESarYN98LtDyGkBqF5Sg'},\n",
       "  'canRate': True,\n",
       "  'viewerRating': 'none',\n",
       "  'likeCount': 109,\n",
       "  'publishedAt': '2023-08-19T14:45:37Z',\n",
       "  'updatedAt': '2023-08-19T14:45:37Z'}}"
      ]
     },
     "execution_count": 10,
     "metadata": {},
     "output_type": "execute_result"
    }
   ],
   "source": [
    "comment_response2[\"items\"][0]"
   ]
  },
  {
   "cell_type": "code",
   "execution_count": 11,
   "metadata": {},
   "outputs": [],
   "source": [
    "comment = comment_response[\"items\"][0][\"snippet\"][\"topLevelComment\"][\"snippet\"]"
   ]
  },
  {
   "cell_type": "code",
   "execution_count": 12,
   "metadata": {},
   "outputs": [
    {
     "data": {
      "text/plain": [
       "'en'"
      ]
     },
     "execution_count": 12,
     "metadata": {},
     "output_type": "execute_result"
    }
   ],
   "source": [
    "detect(comment[\"textDisplay\"])"
   ]
  },
  {
   "cell_type": "code",
   "execution_count": 13,
   "metadata": {},
   "outputs": [
    {
     "data": {
      "text/plain": [
       "True"
      ]
     },
     "execution_count": 13,
     "metadata": {},
     "output_type": "execute_result"
    }
   ],
   "source": [
    "comment_is_in_english(comment)"
   ]
  },
  {
   "cell_type": "code",
   "execution_count": 14,
   "metadata": {},
   "outputs": [
    {
     "data": {
      "text/plain": [
       "False"
      ]
     },
     "execution_count": 14,
     "metadata": {},
     "output_type": "execute_result"
    }
   ],
   "source": [
    "comment[\"textDisplay\"] = \"Je ne suis pas en anglais!\"\n",
    "comment_is_in_english(comment)"
   ]
  },
  {
   "cell_type": "code",
   "execution_count": 17,
   "metadata": {},
   "outputs": [
    {
     "name": "stdout",
     "output_type": "stream",
     "text": [
      "120000 usd :face_screaming_in_fear: I burn 12000kwh yearly\n"
     ]
    }
   ],
   "source": [
    "import emoji\n",
    "\n",
    "def replace_emojis_with_text(text):\n",
    "    return emoji.demojize(text)\n",
    "    \n",
    "# Input\n",
    "comment = \"120000 usd 😱 I burn 12000kwh yearly\"\n",
    "print(replace_emojis_with_text(comment))\n",
    "# Output: \"120000 usd :scream: I burn 12000kwh yearly\"\n"
   ]
  },
  {
   "cell_type": "code",
   "execution_count": 15,
   "metadata": {},
   "outputs": [
    {
     "name": "stdout",
     "output_type": "stream",
     "text": [
      "120000 usd  I burn 12000kwh yearly\n"
     ]
    }
   ],
   "source": [
    "import re\n",
    "\n",
    "def remove_emojis(text):\n",
    "    emoji_pattern = re.compile(\"[\"\n",
    "        u\"\\U0001F600-\\U0001F64F\"  # emoticons\n",
    "        u\"\\U0001F300-\\U0001F5FF\"  # symbols & pictographs\n",
    "        u\"\\U0001F680-\\U0001F6FF\"  # transport & map symbols\n",
    "        u\"\\U0001F1E0-\\U0001F1FF\"  # flags (iOS)\n",
    "        u\"\\U00002702-\\U000027B0\"\n",
    "        u\"\\U000024C2-\\U0001F251\"\n",
    "        \"]+\", flags=re.UNICODE)\n",
    "    return emoji_pattern.sub(r'', text)\n",
    "\n",
    "# Input\n",
    "comment = \"120000 usd 😱 I burn 12000kwh yearly\"\n",
    "print(remove_emojis(comment))"
   ]
  },
  {
   "cell_type": "code",
   "execution_count": 22,
   "metadata": {},
   "outputs": [
    {
     "name": "stdout",
     "output_type": "stream",
     "text": [
      "120000 usd  I burn 12000kwh yearly httpdinyadcom\n"
     ]
    }
   ],
   "source": [
    "import re\n",
    "comment = \"120000 usd 😱 I burn 12000kwh yearly http.//dinyad.com\"\n",
    "text = re.sub(r'[^\\w\\s]', '', comment)  # Retire les caractères spéciaux\n",
    "print(text)"
   ]
  },
  {
   "cell_type": "code",
   "execution_count": 1,
   "metadata": {},
   "outputs": [
    {
     "name": "stdout",
     "output_type": "stream",
     "text": [
      "This is a great product! @ What do you think?\n"
     ]
    }
   ],
   "source": [
    "import re\n",
    "\n",
    "def remove_user_mentions(text):\n",
    "    return re.sub(r'@\\w+', '', text).strip()\n",
    "\n",
    "# Example usage\n",
    "text = \"@tom This is a great product! @@anna What do you think?\"\n",
    "cleaned_text = remove_user_mentions(text)\n",
    "print(cleaned_text)  # Output: \"This is a great product! What do you think?\"\n"
   ]
  },
  {
   "cell_type": "code",
   "execution_count": null,
   "metadata": {},
   "outputs": [
    {
     "name": "stdout",
     "output_type": "stream",
     "text": [
      "This is a. string with extra spaces .\n"
     ]
    }
   ],
   "source": [
    "def remove_extra_whitespace(text):\n",
    "    return ' '.join(text.split())\n",
    "\n",
    "text = \"\"\"This    is   a. \n",
    "\n",
    "\n",
    "\n",
    "string   with  extra   spaces    .\"\"\"\n",
    "\n",
    "cleaned_text = remove_extra_whitespace(text)\n",
    "print(cleaned_text)  \n"
   ]
  },
  {
   "cell_type": "code",
   "execution_count": 7,
   "metadata": {},
   "outputs": [
    {
     "name": "stdout",
     "output_type": "stream",
     "text": [
      "['This', 'is', 'a.', 'string', 'with', 'extra', 'spaces.']\n"
     ]
    }
   ],
   "source": [
    "print(text.split())"
   ]
  }
 ],
 "metadata": {
  "kernelspec": {
   "display_name": "tf",
   "language": "python",
   "name": "python3"
  },
  "language_info": {
   "codemirror_mode": {
    "name": "ipython",
    "version": 3
   },
   "file_extension": ".py",
   "mimetype": "text/x-python",
   "name": "python",
   "nbconvert_exporter": "python",
   "pygments_lexer": "ipython3",
   "version": "3.10.6"
  }
 },
 "nbformat": 4,
 "nbformat_minor": 2
}
