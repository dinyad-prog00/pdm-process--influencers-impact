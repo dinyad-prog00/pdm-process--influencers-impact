{
 "cells": [
  {
   "cell_type": "code",
   "execution_count": null,
   "metadata": {},
   "outputs": [
    {
     "data": {
      "text/plain": [
       "True"
      ]
     },
     "execution_count": 24,
     "metadata": {},
     "output_type": "execute_result"
    }
   ],
   "source": [
    "%reload_ext autoreload\n",
    "%autoreload 2\n",
    "\n",
    "from dotenv import load_dotenv\n",
    "from googleapiclient.discovery import build\n",
    "import pandas as pd\n",
    "from langdetect import detect\n",
    "import os\n",
    "\n",
    "from utils import  get_comments_for_video\n",
    "load_dotenv()"
   ]
  },
  {
   "cell_type": "markdown",
   "metadata": {},
   "source": [
    "# Variables setup"
   ]
  },
  {
   "cell_type": "code",
   "execution_count": 25,
   "metadata": {},
   "outputs": [],
   "source": [
    "api_key = os.getenv(\"YOUTUBE_API_KEY\")"
   ]
  },
  {
   "cell_type": "code",
   "execution_count": 26,
   "metadata": {},
   "outputs": [],
   "source": [
    "#  Tesla Solar Roof (Examen du toit solaire Tesla : cela en valait-il la peine ?)\n",
    "video_id = \"UJeSWbR6W04\""
   ]
  },
  {
   "cell_type": "code",
   "execution_count": 27,
   "metadata": {},
   "outputs": [],
   "source": [
    "# Build the YouTube client\n",
    "youtube = build(\"youtube\", \"v3\", developerKey=api_key)"
   ]
  },
  {
   "cell_type": "markdown",
   "metadata": {},
   "source": [
    "# Get Comments"
   ]
  },
  {
   "cell_type": "code",
   "execution_count": null,
   "metadata": {},
   "outputs": [],
   "source": [
    "# Commented out to prevent accidental execution, as it triggers a resource-intensive process: get_comments_for_video(youtube,video_id)\n",
    "\n",
    "all_comments = [] # get_comments_for_video(youtube,video_id) #see utils.py"
   ]
  },
  {
   "cell_type": "code",
   "execution_count": 40,
   "metadata": {},
   "outputs": [],
   "source": [
    "comments_df = pd.DataFrame(all_comments)"
   ]
  },
  {
   "cell_type": "code",
   "execution_count": 41,
   "metadata": {},
   "outputs": [
    {
     "data": {
      "text/html": [
       "<div>\n",
       "<style scoped>\n",
       "    .dataframe tbody tr th:only-of-type {\n",
       "        vertical-align: middle;\n",
       "    }\n",
       "\n",
       "    .dataframe tbody tr th {\n",
       "        vertical-align: top;\n",
       "    }\n",
       "\n",
       "    .dataframe thead th {\n",
       "        text-align: right;\n",
       "    }\n",
       "</style>\n",
       "<table border=\"1\" class=\"dataframe\">\n",
       "  <thead>\n",
       "    <tr style=\"text-align: right;\">\n",
       "      <th></th>\n",
       "      <th>id</th>\n",
       "      <th>comment</th>\n",
       "      <th>authorDisplayName</th>\n",
       "      <th>authorChannelUrl</th>\n",
       "      <th>likeCount</th>\n",
       "      <th>totalReplyCount</th>\n",
       "      <th>publishedAt</th>\n",
       "      <th>updatedAt</th>\n",
       "      <th>parentId</th>\n",
       "    </tr>\n",
       "  </thead>\n",
       "  <tbody>\n",
       "    <tr>\n",
       "      <th>0</th>\n",
       "      <td>Ugw7KdFkoA-IFdrqT3l4AaABAg</td>\n",
       "      <td>So it appears Tesla found a bug in their app a...</td>\n",
       "      <td>@mkbhd</td>\n",
       "      <td>http://www.youtube.com/@mkbhd</td>\n",
       "      <td>5809</td>\n",
       "      <td>279</td>\n",
       "      <td>2023-08-19T14:35:19Z</td>\n",
       "      <td>2023-08-19T14:35:29Z</td>\n",
       "      <td>NaN</td>\n",
       "    </tr>\n",
       "    <tr>\n",
       "      <th>1</th>\n",
       "      <td>Ugw7KdFkoA-IFdrqT3l4AaABAg.9taoCpiyDBX9tapODS4ea6</td>\n",
       "      <td>Why didn’t you factor any SREC’s into your cal...</td>\n",
       "      <td>@merojeff</td>\n",
       "      <td>http://www.youtube.com/@merojeff</td>\n",
       "      <td>109</td>\n",
       "      <td>0</td>\n",
       "      <td>2023-08-19T14:45:37Z</td>\n",
       "      <td>2023-08-19T14:45:37Z</td>\n",
       "      <td>Ugw7KdFkoA-IFdrqT3l4AaABAg</td>\n",
       "    </tr>\n",
       "    <tr>\n",
       "      <th>2</th>\n",
       "      <td>Ugw7KdFkoA-IFdrqT3l4AaABAg.9taoCpiyDBX9taq5tIs_5q</td>\n",
       "      <td>Straight from Twitter link after you posted th...</td>\n",
       "      <td>@sreejithprakash13s36</td>\n",
       "      <td>http://www.youtube.com/@sreejithprakash13s36</td>\n",
       "      <td>26</td>\n",
       "      <td>0</td>\n",
       "      <td>2023-08-19T14:51:51Z</td>\n",
       "      <td>2023-08-19T14:51:51Z</td>\n",
       "      <td>Ugw7KdFkoA-IFdrqT3l4AaABAg</td>\n",
       "    </tr>\n",
       "    <tr>\n",
       "      <th>3</th>\n",
       "      <td>Ugw7KdFkoA-IFdrqT3l4AaABAg.9taoCpiyDBX9tavlulbzJW</td>\n",
       "      <td>Yes, you cannot produce 350 kWh of energy in a...</td>\n",
       "      <td>@hbjigcc</td>\n",
       "      <td>http://www.youtube.com/@hbjigcc</td>\n",
       "      <td>91</td>\n",
       "      <td>0</td>\n",
       "      <td>2023-08-19T15:41:25Z</td>\n",
       "      <td>2023-08-19T16:43:20Z</td>\n",
       "      <td>Ugw7KdFkoA-IFdrqT3l4AaABAg</td>\n",
       "    </tr>\n",
       "    <tr>\n",
       "      <th>4</th>\n",
       "      <td>Ugw7KdFkoA-IFdrqT3l4AaABAg.9taoCpiyDBX9tb6z2kstCp</td>\n",
       "      <td>I may have missed it but don't you sell electr...</td>\n",
       "      <td>@nyemartin5737</td>\n",
       "      <td>http://www.youtube.com/@nyemartin5737</td>\n",
       "      <td>40</td>\n",
       "      <td>0</td>\n",
       "      <td>2023-08-19T17:28:04Z</td>\n",
       "      <td>2023-08-19T17:28:04Z</td>\n",
       "      <td>Ugw7KdFkoA-IFdrqT3l4AaABAg</td>\n",
       "    </tr>\n",
       "  </tbody>\n",
       "</table>\n",
       "</div>"
      ],
      "text/plain": [
       "                                                  id  \\\n",
       "0                         Ugw7KdFkoA-IFdrqT3l4AaABAg   \n",
       "1  Ugw7KdFkoA-IFdrqT3l4AaABAg.9taoCpiyDBX9tapODS4ea6   \n",
       "2  Ugw7KdFkoA-IFdrqT3l4AaABAg.9taoCpiyDBX9taq5tIs_5q   \n",
       "3  Ugw7KdFkoA-IFdrqT3l4AaABAg.9taoCpiyDBX9tavlulbzJW   \n",
       "4  Ugw7KdFkoA-IFdrqT3l4AaABAg.9taoCpiyDBX9tb6z2kstCp   \n",
       "\n",
       "                                             comment      authorDisplayName  \\\n",
       "0  So it appears Tesla found a bug in their app a...                 @mkbhd   \n",
       "1  Why didn’t you factor any SREC’s into your cal...              @merojeff   \n",
       "2  Straight from Twitter link after you posted th...  @sreejithprakash13s36   \n",
       "3  Yes, you cannot produce 350 kWh of energy in a...               @hbjigcc   \n",
       "4  I may have missed it but don't you sell electr...         @nyemartin5737   \n",
       "\n",
       "                               authorChannelUrl  likeCount  totalReplyCount  \\\n",
       "0                 http://www.youtube.com/@mkbhd       5809              279   \n",
       "1              http://www.youtube.com/@merojeff        109                0   \n",
       "2  http://www.youtube.com/@sreejithprakash13s36         26                0   \n",
       "3               http://www.youtube.com/@hbjigcc         91                0   \n",
       "4         http://www.youtube.com/@nyemartin5737         40                0   \n",
       "\n",
       "            publishedAt             updatedAt                    parentId  \n",
       "0  2023-08-19T14:35:19Z  2023-08-19T14:35:29Z                         NaN  \n",
       "1  2023-08-19T14:45:37Z  2023-08-19T14:45:37Z  Ugw7KdFkoA-IFdrqT3l4AaABAg  \n",
       "2  2023-08-19T14:51:51Z  2023-08-19T14:51:51Z  Ugw7KdFkoA-IFdrqT3l4AaABAg  \n",
       "3  2023-08-19T15:41:25Z  2023-08-19T16:43:20Z  Ugw7KdFkoA-IFdrqT3l4AaABAg  \n",
       "4  2023-08-19T17:28:04Z  2023-08-19T17:28:04Z  Ugw7KdFkoA-IFdrqT3l4AaABAg  "
      ]
     },
     "execution_count": 41,
     "metadata": {},
     "output_type": "execute_result"
    }
   ],
   "source": [
    "comments_df.head()"
   ]
  },
  {
   "cell_type": "code",
   "execution_count": 42,
   "metadata": {},
   "outputs": [
    {
     "data": {
      "text/plain": [
       "(25832, 9)"
      ]
     },
     "execution_count": 42,
     "metadata": {},
     "output_type": "execute_result"
    }
   ],
   "source": [
    "comments_df.shape"
   ]
  },
  {
   "cell_type": "markdown",
   "metadata": {},
   "source": [
    "# Save to CSV"
   ]
  },
  {
   "cell_type": "code",
   "execution_count": 43,
   "metadata": {},
   "outputs": [],
   "source": [
    "csv_file = '../data/tesla_solar_roof_comments.csv'  \n",
    "comments_df.to_csv(csv_file, index=False)"
   ]
  },
  {
   "cell_type": "markdown",
   "metadata": {},
   "source": [
    "# Test"
   ]
  },
  {
   "cell_type": "code",
   "execution_count": 44,
   "metadata": {},
   "outputs": [
    {
     "data": {
      "text/html": [
       "<div>\n",
       "<style scoped>\n",
       "    .dataframe tbody tr th:only-of-type {\n",
       "        vertical-align: middle;\n",
       "    }\n",
       "\n",
       "    .dataframe tbody tr th {\n",
       "        vertical-align: top;\n",
       "    }\n",
       "\n",
       "    .dataframe thead th {\n",
       "        text-align: right;\n",
       "    }\n",
       "</style>\n",
       "<table border=\"1\" class=\"dataframe\">\n",
       "  <thead>\n",
       "    <tr style=\"text-align: right;\">\n",
       "      <th></th>\n",
       "      <th>authorDisplayName</th>\n",
       "      <th>comment</th>\n",
       "      <th>likeCount</th>\n",
       "    </tr>\n",
       "  </thead>\n",
       "  <tbody>\n",
       "    <tr>\n",
       "      <th>0</th>\n",
       "      <td>@mkbhd</td>\n",
       "      <td>So it appears Tesla found a bug in their app a...</td>\n",
       "      <td>5809</td>\n",
       "    </tr>\n",
       "    <tr>\n",
       "      <th>1</th>\n",
       "      <td>@merojeff</td>\n",
       "      <td>Why didn’t you factor any SREC’s into your cal...</td>\n",
       "      <td>109</td>\n",
       "    </tr>\n",
       "    <tr>\n",
       "      <th>2</th>\n",
       "      <td>@sreejithprakash13s36</td>\n",
       "      <td>Straight from Twitter link after you posted th...</td>\n",
       "      <td>26</td>\n",
       "    </tr>\n",
       "    <tr>\n",
       "      <th>3</th>\n",
       "      <td>@hbjigcc</td>\n",
       "      <td>Yes, you cannot produce 350 kWh of energy in a...</td>\n",
       "      <td>91</td>\n",
       "    </tr>\n",
       "    <tr>\n",
       "      <th>4</th>\n",
       "      <td>@nyemartin5737</td>\n",
       "      <td>I may have missed it but don't you sell electr...</td>\n",
       "      <td>40</td>\n",
       "    </tr>\n",
       "  </tbody>\n",
       "</table>\n",
       "</div>"
      ],
      "text/plain": [
       "       authorDisplayName                                            comment  \\\n",
       "0                 @mkbhd  So it appears Tesla found a bug in their app a...   \n",
       "1              @merojeff  Why didn’t you factor any SREC’s into your cal...   \n",
       "2  @sreejithprakash13s36  Straight from Twitter link after you posted th...   \n",
       "3               @hbjigcc  Yes, you cannot produce 350 kWh of energy in a...   \n",
       "4         @nyemartin5737  I may have missed it but don't you sell electr...   \n",
       "\n",
       "   likeCount  \n",
       "0       5809  \n",
       "1        109  \n",
       "2         26  \n",
       "3         91  \n",
       "4         40  "
      ]
     },
     "execution_count": 44,
     "metadata": {},
     "output_type": "execute_result"
    }
   ],
   "source": [
    "comments = pd.read_csv(csv_file)[[\"authorDisplayName\",\"comment\",\"likeCount\"]]\n",
    "comments.head()"
   ]
  }
 ],
 "metadata": {
  "kernelspec": {
   "display_name": "tf",
   "language": "python",
   "name": "python3"
  },
  "language_info": {
   "codemirror_mode": {
    "name": "ipython",
    "version": 3
   },
   "file_extension": ".py",
   "mimetype": "text/x-python",
   "name": "python",
   "nbconvert_exporter": "python",
   "pygments_lexer": "ipython3",
   "version": "3.10.6"
  }
 },
 "nbformat": 4,
 "nbformat_minor": 2
}
